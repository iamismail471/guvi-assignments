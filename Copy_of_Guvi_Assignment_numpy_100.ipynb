{
  "cells": [
    {
      "cell_type": "markdown",
      "metadata": {
        "id": "view-in-github",
        "colab_type": "text"
      },
      "source": [
        "<a href=\"https://colab.research.google.com/github/iamismail471/guvi-assignments/blob/master/Copy_of_Guvi_Assignment_numpy_100.ipynb\" target=\"_parent\"><img src=\"https://colab.research.google.com/assets/colab-badge.svg\" alt=\"Open In Colab\"/></a>"
      ]
    },
    {
      "cell_type": "markdown",
      "metadata": {
        "id": "3STNsy0tSZRQ"
      },
      "source": [
        "# Numpy\n",
        "\n"
      ]
    },
    {
      "cell_type": "markdown",
      "metadata": {
        "id": "YaeHEuQ3SZRb"
      },
      "source": [
        "#### 1. Import the numpy package under the name `np` (★☆☆) \n",
        "(**hint**: import … as …)"
      ]
    },
    {
      "cell_type": "code",
      "execution_count": null,
      "metadata": {
        "collapsed": true,
        "id": "Oi-lP9YpSZRd"
      },
      "outputs": [],
      "source": [
        "import numpy as np"
      ]
    },
    {
      "cell_type": "markdown",
      "metadata": {
        "id": "ms0j1hqgSZRf"
      },
      "source": [
        "#### 2. Print the numpy version and the configuration (★☆☆) \n",
        "(**hint**: np.\\_\\_version\\_\\_, np.show\\_config)"
      ]
    },
    {
      "cell_type": "code",
      "execution_count": null,
      "metadata": {
        "id": "vXbGSjpeSZRg",
        "outputId": "fd331b95-6b9b-410a-8cfc-e0d3128254bd",
        "colab": {
          "base_uri": "https://localhost:8080/"
        }
      },
      "outputs": [
        {
          "output_type": "stream",
          "name": "stdout",
          "text": [
            "1.21.5\n",
            "blas_mkl_info:\n",
            "  NOT AVAILABLE\n",
            "blis_info:\n",
            "  NOT AVAILABLE\n",
            "openblas_info:\n",
            "    libraries = ['openblas', 'openblas']\n",
            "    library_dirs = ['/usr/local/lib']\n",
            "    language = c\n",
            "    define_macros = [('HAVE_CBLAS', None)]\n",
            "    runtime_library_dirs = ['/usr/local/lib']\n",
            "blas_opt_info:\n",
            "    libraries = ['openblas', 'openblas']\n",
            "    library_dirs = ['/usr/local/lib']\n",
            "    language = c\n",
            "    define_macros = [('HAVE_CBLAS', None)]\n",
            "    runtime_library_dirs = ['/usr/local/lib']\n",
            "lapack_mkl_info:\n",
            "  NOT AVAILABLE\n",
            "openblas_lapack_info:\n",
            "    libraries = ['openblas', 'openblas']\n",
            "    library_dirs = ['/usr/local/lib']\n",
            "    language = c\n",
            "    define_macros = [('HAVE_CBLAS', None)]\n",
            "    runtime_library_dirs = ['/usr/local/lib']\n",
            "lapack_opt_info:\n",
            "    libraries = ['openblas', 'openblas']\n",
            "    library_dirs = ['/usr/local/lib']\n",
            "    language = c\n",
            "    define_macros = [('HAVE_CBLAS', None)]\n",
            "    runtime_library_dirs = ['/usr/local/lib']\n",
            "Supported SIMD extensions in this NumPy install:\n",
            "    baseline = SSE,SSE2,SSE3\n",
            "    found = SSSE3,SSE41,POPCNT,SSE42,AVX,F16C,FMA3,AVX2\n",
            "    not found = AVX512F,AVX512CD,AVX512_KNL,AVX512_KNM,AVX512_SKX,AVX512_CLX,AVX512_CNL,AVX512_ICL\n",
            "None\n"
          ]
        }
      ],
      "source": [
        "import numpy as np\n",
        "print(np.__version__)\n",
        "print(np.show_config())"
      ]
    },
    {
      "cell_type": "markdown",
      "metadata": {
        "id": "pmzX2YklSZRh"
      },
      "source": [
        "#### 3. Create a null vector of size 10 (★☆☆) \n",
        "(**hint**: np.zeros)"
      ]
    },
    {
      "cell_type": "code",
      "execution_count": null,
      "metadata": {
        "id": "AfO9e72YSZRj"
      },
      "outputs": [],
      "source": [
        "def null_array(n):\n",
        "    x=np.zeros(n)\n",
        "    return x\n",
        "    print(null_array(10))"
      ]
    },
    {
      "cell_type": "markdown",
      "metadata": {
        "id": "WheI9_b-SZRk"
      },
      "source": [
        "#### 4.  How to find the memory size of any array (★☆☆) \n",
        "(**hint**: size, itemsize)"
      ]
    },
    {
      "cell_type": "code",
      "execution_count": null,
      "metadata": {
        "id": "HY1Mk_NZSZRl",
        "outputId": "07d7989b-097f-470a-f420-b083c9a47e70",
        "colab": {
          "base_uri": "https://localhost:8080/"
        }
      },
      "outputs": [
        {
          "output_type": "stream",
          "name": "stdout",
          "text": [
            "Size of the array:  3\n",
            "Memory size of one array element in bytes:  8\n",
            "Memory size of numpy array in bytes: 24\n"
          ]
        }
      ],
      "source": [
        "#import library\n",
        "import numpy as np\n",
        "  \n",
        "#create a numpy 1d-array\n",
        "x = np.array([100,20,34])\n",
        "  \n",
        "print(\"Size of the array: \",\n",
        "      x.size)\n",
        "  \n",
        "print(\"Memory size of one array element in bytes: \",\n",
        "      x.itemsize)\n",
        "  \n",
        "#memory size of numpy array in bytes\n",
        "print(\"Memory size of numpy array in bytes:\",\n",
        "      x.size * x.itemsize)"
      ]
    },
    {
      "cell_type": "markdown",
      "metadata": {
        "id": "MR953DY9SZRm"
      },
      "source": [
        "#### 5.  How to get the documentation of the numpy add function from the command line? (★☆☆) \n",
        "(**hint**: np.info)"
      ]
    },
    {
      "cell_type": "code",
      "execution_count": null,
      "metadata": {
        "collapsed": true,
        "id": "KJixahkKSZRn",
        "colab": {
          "base_uri": "https://localhost:8080/"
        },
        "outputId": "0af389cb-afb4-4112-c959-455cad245f30"
      },
      "outputs": [
        {
          "output_type": "stream",
          "name": "stdout",
          "text": [
            "None\n"
          ]
        }
      ],
      "source": [
        "import numpy as np\n",
        "print(np.info(np.add))"
      ]
    },
    {
      "cell_type": "markdown",
      "metadata": {
        "id": "xTfByjdISZRo"
      },
      "source": [
        "#### 6.  Create a null vector of size 10 but the fifth value which is 1 (★☆☆) \n",
        "(**hint**: array\\[4\\])"
      ]
    },
    {
      "cell_type": "code",
      "execution_count": null,
      "metadata": {
        "id": "xB_DZjL5SZRo"
      },
      "outputs": [],
      "source": [
        "x=np.zeros(10)\n",
        "x[4]=1"
      ]
    },
    {
      "cell_type": "markdown",
      "metadata": {
        "id": "tpbpdJUySZRp"
      },
      "source": [
        "#### 7.  Create a vector with values ranging from 10 to 49 (★☆☆) \n",
        "(**hint**: np.arange)"
      ]
    },
    {
      "cell_type": "code",
      "execution_count": null,
      "metadata": {
        "id": "0HD76szsSZRq",
        "colab": {
          "base_uri": "https://localhost:8080/"
        },
        "outputId": "23ef22a9-beca-48c4-de1c-7c448873770c"
      },
      "outputs": [
        {
          "output_type": "stream",
          "name": "stdout",
          "text": [
            "Original vector:\n",
            "[10 11 12 13 14 15 16 17 18 19 20 21 22 23 24 25 26 27 28 29 30 31 32 33\n",
            " 34 35 36 37 38 39 40 41 42 43 44 45 46 47 48]\n",
            "All values except the first and last of the said vector:\n",
            "[11 12 13 14 15 16 17 18 19 20 21 22 23 24 25 26 27 28 29 30 31 32 33 34\n",
            " 35 36 37 38 39 40 41 42 43 44 45 46 47]\n"
          ]
        }
      ],
      "source": [
        "import numpy as np\n",
        "v = np.arange(10,49)\n",
        "print(\"Original vector:\")\n",
        "print(v)\n",
        "print(\"All values except the first and last of the said vector:\")\n",
        "print(v[1:-1])"
      ]
    },
    {
      "cell_type": "markdown",
      "metadata": {
        "id": "OHGBjyOdSZRq"
      },
      "source": [
        "#### 8.  Reverse a vector (first element becomes last) (★☆☆) \n",
        "(**hint**: array\\[::-1\\])"
      ]
    },
    {
      "cell_type": "code",
      "execution_count": null,
      "metadata": {
        "id": "QSlYBm3ASZRr",
        "colab": {
          "base_uri": "https://localhost:8080/"
        },
        "outputId": "4531c049-e9ec-4322-afb1-b91e32c18870"
      },
      "outputs": [
        {
          "output_type": "stream",
          "name": "stdout",
          "text": [
            "Original array:\n",
            "[12 13 14 15 16 17 18 19 20 21 22 23 24 25 26 27 28 29 30 31 32 33 34 35\n",
            " 36 37]\n",
            "Reverse array:\n",
            "[37 36 35 34 33 32 31 30 29 28 27 26 25 24 23 22 21 20 19 18 17 16 15 14\n",
            " 13 12]\n"
          ]
        }
      ],
      "source": [
        "import numpy as np\n",
        "import numpy as np\n",
        "x = np.arange(12, 38)\n",
        "print(\"Original array:\")\n",
        "print(x)\n",
        "print(\"Reverse array:\")\n",
        "x = x[::-1]\n",
        "print(x)"
      ]
    },
    {
      "cell_type": "markdown",
      "metadata": {
        "id": "7uXwUhjoSZRr"
      },
      "source": [
        "#### 9.  Create a 3x3 matrix with values ranging from 0 to 8 (★☆☆) \n",
        "(**hint**: reshape)"
      ]
    },
    {
      "cell_type": "code",
      "execution_count": null,
      "metadata": {
        "id": "gDPticVoSZRr",
        "colab": {
          "base_uri": "https://localhost:8080/"
        },
        "outputId": "5dd369f0-1a6c-4675-c057-2aed8f94789d"
      },
      "outputs": [
        {
          "output_type": "stream",
          "name": "stdout",
          "text": [
            "[[ 2  3  4]\n",
            " [ 5  6  7]\n",
            " [ 8  9 10]]\n"
          ]
        }
      ],
      "source": [
        "import numpy as np\n",
        "x =  np.arange(2, 11).reshape(3,3)\n",
        "print(x)"
      ]
    },
    {
      "cell_type": "markdown",
      "metadata": {
        "id": "t-dnS4V-SZRs"
      },
      "source": [
        "#### 10. Find indices of non-zero elements from \\[1,2,0,0,4,0\\] (★☆☆) \n",
        "(**hint**: np.nonzero)"
      ]
    },
    {
      "cell_type": "code",
      "execution_count": null,
      "metadata": {
        "id": "jw89PaOhSZRt",
        "colab": {
          "base_uri": "https://localhost:8080/"
        },
        "outputId": "125b178b-8904-4d92-b869-65046756adb2"
      },
      "outputs": [
        {
          "output_type": "stream",
          "name": "stdout",
          "text": [
            "Input array : \n",
            " [[ 0  8  0]\n",
            " [ 7  0  0]\n",
            " [-5  0  1]]\n",
            "Indices of non zero elements :  (array([0, 1, 2, 2]), array([1, 0, 0, 2]))\n"
          ]
        }
      ],
      "source": [
        "# Python program explaining\n",
        "# nonzero() function\n",
        "\n",
        "import numpy as geek\n",
        "arr = geek.array([[0, 8, 0], [7, 0, 0], [-5, 0, 1]])\n",
        "\n",
        "print (\"Input array : \\n\", arr)\n",
        "\t\n",
        "out_tpl = geek.nonzero(arr)\n",
        "print (\"Indices of non zero elements : \", out_tpl)\n"
      ]
    },
    {
      "cell_type": "markdown",
      "metadata": {
        "id": "kkpegdgaSZRt"
      },
      "source": [
        "#### 11. Create a 3x3 identity matrix (★☆☆) \n",
        "(**hint**: np.eye)"
      ]
    },
    {
      "cell_type": "code",
      "execution_count": null,
      "metadata": {
        "id": "HdeNJS2tSZRu",
        "colab": {
          "base_uri": "https://localhost:8080/"
        },
        "outputId": "3b904c4c-306a-4556-8e0e-35f878744558"
      },
      "outputs": [
        {
          "output_type": "stream",
          "name": "stdout",
          "text": [
            "3x3 matrix:\n",
            "[[1. 0. 0.]\n",
            " [0. 1. 0.]\n",
            " [0. 0. 1.]]\n"
          ]
        }
      ],
      "source": [
        "array_2D=np.identity(3)\n",
        "print('3x3 matrix:')\n",
        "print(array_2D)"
      ]
    },
    {
      "cell_type": "markdown",
      "metadata": {
        "id": "q_WrB8MNSZRu"
      },
      "source": [
        "#### 12. Create a 3x3x3 array with random values (★☆☆) \n",
        "(**hint**: np.random.random)"
      ]
    },
    {
      "cell_type": "code",
      "execution_count": null,
      "metadata": {
        "collapsed": true,
        "id": "4JYmEWBiSZRu",
        "colab": {
          "base_uri": "https://localhost:8080/"
        },
        "outputId": "61c789a4-a15b-42e3-9df7-6a382ef355b8"
      },
      "outputs": [
        {
          "output_type": "stream",
          "name": "stdout",
          "text": [
            "[[[0.19965177 0.10490308 0.18909621]\n",
            "  [0.18745279 0.69228967 0.95575414]\n",
            "  [0.04888904 0.31956374 0.85707685]]\n",
            "\n",
            " [[0.58362554 0.63578889 0.99119623]\n",
            "  [0.78512904 0.08619444 0.32316748]\n",
            "  [0.73365078 0.16452109 0.97040311]]\n",
            "\n",
            " [[0.20005976 0.62882465 0.94338225]\n",
            "  [0.36203588 0.95494188 0.87703521]\n",
            "  [0.33953242 0.87087367 0.48180971]]]\n"
          ]
        }
      ],
      "source": [
        "x = np.random.random((3,3,3))\n",
        "print(x)"
      ]
    },
    {
      "cell_type": "markdown",
      "metadata": {
        "id": "GHAqxjR-SZRv"
      },
      "source": [
        "#### 13. Create a 10x10 array with random values and find the minimum and maximum values (★☆☆) \n",
        "(**hint**: min, max)"
      ]
    },
    {
      "cell_type": "code",
      "execution_count": null,
      "metadata": {
        "id": "9r5Q0YatSZRv",
        "colab": {
          "base_uri": "https://localhost:8080/"
        },
        "outputId": "379e13a9-6e90-4e01-ec98-4bc9a1de32b8"
      },
      "outputs": [
        {
          "output_type": "stream",
          "name": "stdout",
          "text": [
            "[[1. 1. 1. 1. 1. 1. 1. 1. 1. 1.]\n",
            " [1. 0. 0. 0. 0. 0. 0. 0. 0. 1.]\n",
            " [1. 0. 0. 0. 0. 0. 0. 0. 0. 1.]\n",
            " [1. 0. 0. 0. 0. 0. 0. 0. 0. 1.]\n",
            " [1. 0. 0. 0. 0. 0. 0. 0. 0. 1.]\n",
            " [1. 0. 0. 0. 0. 0. 0. 0. 0. 1.]\n",
            " [1. 0. 0. 0. 0. 0. 0. 0. 0. 1.]\n",
            " [1. 0. 0. 0. 0. 0. 0. 0. 0. 1.]\n",
            " [1. 0. 0. 0. 0. 0. 0. 0. 0. 1.]\n",
            " [1. 1. 1. 1. 1. 1. 1. 1. 1. 1.]]\n"
          ]
        }
      ],
      "source": [
        "x = np.ones((10, 10))\n",
        "x[1:-1, 1:-1] = 0\n",
        "print(x)"
      ]
    },
    {
      "cell_type": "markdown",
      "metadata": {
        "id": "Bd9OJPErSZRv"
      },
      "source": [
        "#### 14. Create a random vector of size 30 and find the mean value (★☆☆) \n",
        "(**hint**: mean)"
      ]
    },
    {
      "cell_type": "code",
      "execution_count": null,
      "metadata": {
        "id": "rplGMNYtSZRw",
        "colab": {
          "base_uri": "https://localhost:8080/"
        },
        "outputId": "bff40ddd-a084-4625-d89f-bf5c6f75fa41"
      },
      "outputs": [
        {
          "output_type": "stream",
          "name": "stdout",
          "text": [
            "Original array:\n",
            "[0.31155604 0.41515564 0.20951873 0.7377787  0.17941554 0.19115803\n",
            " 0.96518107 0.04244881 0.75415605 0.90638644]\n",
            "Sorted array:\n",
            "[0.04244881 0.17941554 0.19115803 0.20951873 0.31155604 0.41515564\n",
            " 0.7377787  0.75415605 0.90638644 0.96518107]\n"
          ]
        }
      ],
      "source": [
        "x = np.random.random(10)\n",
        "print(\"Original array:\")\n",
        "print(x)\n",
        "x.sort()\n",
        "print(\"Sorted array:\")\n",
        "print(x)"
      ]
    },
    {
      "cell_type": "markdown",
      "metadata": {
        "id": "gZZYFxehSZRw"
      },
      "source": [
        "#### 15. Create a 2d array with 1 on the border and 0 inside (★☆☆) \n",
        "(**hint**: array\\[1:-1, 1:-1\\])"
      ]
    },
    {
      "cell_type": "code",
      "execution_count": null,
      "metadata": {
        "id": "PUY1aFEXSZRw",
        "colab": {
          "base_uri": "https://localhost:8080/"
        },
        "outputId": "fb7dc98e-56aa-4a40-b8a1-7981463d4f41"
      },
      "outputs": [
        {
          "output_type": "stream",
          "name": "stdout",
          "text": [
            "Original array:\n",
            "[[1. 1. 1. 1. 1.]\n",
            " [1. 1. 1. 1. 1.]\n",
            " [1. 1. 1. 1. 1.]\n",
            " [1. 1. 1. 1. 1.]\n",
            " [1. 1. 1. 1. 1.]]\n",
            "1 on the border and 0 inside in the array\n",
            "[[1. 1. 1. 1. 1.]\n",
            " [1. 0. 0. 0. 1.]\n",
            " [1. 0. 0. 0. 1.]\n",
            " [1. 0. 0. 0. 1.]\n",
            " [1. 1. 1. 1. 1.]]\n"
          ]
        }
      ],
      "source": [
        "\n",
        "x = np.ones((5,5))\n",
        "print(\"Original array:\")\n",
        "print(x)\n",
        "print(\"1 on the border and 0 inside in the array\")\n",
        "x[1:-1,1:-1] = 0\n",
        "print(x)"
      ]
    },
    {
      "cell_type": "markdown",
      "metadata": {
        "id": "m30-1yLWSZRw"
      },
      "source": [
        "#### 16. How to add a border (filled with 0's) around an existing array? (★☆☆) \n",
        "(**hint**: np.pad)"
      ]
    },
    {
      "cell_type": "code",
      "execution_count": null,
      "metadata": {
        "id": "2yUD6RRkSZRx",
        "colab": {
          "base_uri": "https://localhost:8080/"
        },
        "outputId": "584527cd-7c63-41b2-cfc7-443f6a636bce"
      },
      "outputs": [
        {
          "output_type": "stream",
          "name": "stdout",
          "text": [
            "Original array:\n",
            "[[1. 1. 1.]\n",
            " [1. 1. 1.]\n",
            " [1. 1. 1.]]\n",
            "0 on the border and 1 inside in the array\n",
            "[[0. 0. 0. 0. 0.]\n",
            " [0. 1. 1. 1. 0.]\n",
            " [0. 1. 1. 1. 0.]\n",
            " [0. 1. 1. 1. 0.]\n",
            " [0. 0. 0. 0. 0.]]\n"
          ]
        }
      ],
      "source": [
        "x = np.ones((3,3))\n",
        "print(\"Original array:\")\n",
        "print(x)\n",
        "print(\"0 on the border and 1 inside in the array\")\n",
        "x = np.pad(x, pad_width=1, mode='constant', constant_values=0)\n",
        "print(x)"
      ]
    },
    {
      "cell_type": "markdown",
      "metadata": {
        "id": "fxrve73bSZRx"
      },
      "source": [
        "#### 17. What is the result of the following expression? (★☆☆) \n",
        "(**hint**: NaN = not a number, inf = infinity)"
      ]
    },
    {
      "cell_type": "markdown",
      "metadata": {
        "id": "-joSZx6pSZRx"
      },
      "source": [
        "```python\n",
        "0 * np.nan\n",
        "np.nan == np.nan\n",
        "np.inf > np.nan\n",
        "np.nan - np.nan\n",
        "0.3 == 3 * 0.1\n",
        "```"
      ]
    },
    {
      "cell_type": "code",
      "execution_count": null,
      "metadata": {
        "id": "7HvJ9YG9SZRy",
        "colab": {
          "base_uri": "https://localhost:8080/"
        },
        "outputId": "da475c86-41da-4758-c864-fcbe9e1f4895"
      },
      "outputs": [
        {
          "output_type": "stream",
          "name": "stdout",
          "text": [
            "nan\n",
            "False\n",
            "False\n",
            "nan\n",
            "True\n",
            "False\n"
          ]
        }
      ],
      "source": [
        "print(0 * np.nan)\n",
        "print(np.nan == np.nan)\n",
        "print(np.inf > np.nan)\n",
        "print(np.nan - np.nan)\n",
        "print(np.nan in set([np.nan]))\n",
        "print(0.3 == 3 * 0.1)"
      ]
    },
    {
      "cell_type": "markdown",
      "metadata": {
        "id": "adC8jvJFSZRy"
      },
      "source": [
        "#### 18. Create a 5x5 matrix with values 1,2,3,4 just below the diagonal (★☆☆) \n",
        "(**hint**: np.diag)"
      ]
    },
    {
      "cell_type": "code",
      "execution_count": null,
      "metadata": {
        "id": "L7AAzzDQSZRz",
        "colab": {
          "base_uri": "https://localhost:8080/"
        },
        "outputId": "66a3bbce-be6c-4703-cdcc-c3c363db821b"
      },
      "outputs": [
        {
          "output_type": "stream",
          "name": "stdout",
          "text": [
            "[[1 0 0 0]\n",
            " [0 2 0 0]\n",
            " [0 0 3 0]\n",
            " [0 0 0 4]]\n"
          ]
        }
      ],
      "source": [
        "x = np.diag([1, 2, 3, 4, ])\n",
        "print(x)"
      ]
    },
    {
      "cell_type": "markdown",
      "metadata": {
        "id": "qHXeSwWSSZRz"
      },
      "source": [
        "#### 19. Create a 8x8 matrix and fill it with a checkerboard pattern (★☆☆) \n",
        "(**hint**: array\\[::2\\])"
      ]
    },
    {
      "cell_type": "code",
      "execution_count": null,
      "metadata": {
        "id": "PXq_sA58SZR0",
        "colab": {
          "base_uri": "https://localhost:8080/"
        },
        "outputId": "34acb1d2-6062-4f6c-f323-16cb9a1c9b23"
      },
      "outputs": [
        {
          "output_type": "stream",
          "name": "stdout",
          "text": [
            "Checkerboard pattern:\n",
            "[[0 1 0 1 0 1 0 1]\n",
            " [1 0 1 0 1 0 1 0]\n",
            " [0 1 0 1 0 1 0 1]\n",
            " [1 0 1 0 1 0 1 0]\n",
            " [0 1 0 1 0 1 0 1]\n",
            " [1 0 1 0 1 0 1 0]\n",
            " [0 1 0 1 0 1 0 1]\n",
            " [1 0 1 0 1 0 1 0]]\n"
          ]
        }
      ],
      "source": [
        "x = np.ones((3,3))\n",
        "print(\"Checkerboard pattern:\")\n",
        "x = np.zeros((8,8),dtype=int)\n",
        "x[1::2,::2] = 1\n",
        "x[::2,1::2] = 1\n",
        "print(x)"
      ]
    },
    {
      "cell_type": "markdown",
      "metadata": {
        "id": "Ijqdq67ISZR0"
      },
      "source": [
        "#### 20. Consider a (6,7,8) shape array, what is the index (x,y,z) of the 100th element? \n",
        "(**hint**: np.unravel_index)"
      ]
    },
    {
      "cell_type": "code",
      "execution_count": null,
      "metadata": {
        "id": "x6XfmDbkSZR1",
        "colab": {
          "base_uri": "https://localhost:8080/"
        },
        "outputId": "d91c8cf4-13c4-4b2a-ce11-7a53f6968b0f"
      },
      "outputs": [
        {
          "output_type": "execute_result",
          "data": {
            "text/plain": [
              "(3, 1, 4, 1)"
            ]
          },
          "metadata": {},
          "execution_count": 83
        }
      ],
      "source": [
        "np.unravel_index(1621, (6,7,8,9))\n",
        "(3, 1, 4, 1)"
      ]
    },
    {
      "cell_type": "markdown",
      "metadata": {
        "id": "rGGRlQNZSZR2"
      },
      "source": [
        "#### 21. Create a checkerboard 8x8 matrix using the tile function (★☆☆) \n",
        "(**hint**: np.tile)"
      ]
    },
    {
      "cell_type": "code",
      "execution_count": null,
      "metadata": {
        "id": "L_ssmCmLSZR3",
        "colab": {
          "base_uri": "https://localhost:8080/"
        },
        "outputId": "96157193-89b8-46f3-fc38-4134966fd633"
      },
      "outputs": [
        {
          "output_type": "stream",
          "name": "stdout",
          "text": [
            "Checkerboard pattern:\n",
            "[[0 1 0 1 0 1 0 1]\n",
            " [1 0 1 0 1 0 1 0]\n",
            " [0 1 0 1 0 1 0 1]\n",
            " [1 0 1 0 1 0 1 0]\n",
            " [0 1 0 1 0 1 0 1]\n",
            " [1 0 1 0 1 0 1 0]\n",
            " [0 1 0 1 0 1 0 1]\n",
            " [1 0 1 0 1 0 1 0]]\n"
          ]
        }
      ],
      "source": [
        "x = np.ones((3,3))\n",
        "print(\"Checkerboard pattern:\")\n",
        "x = np.zeros((8,8),dtype=int)\n",
        "x[1::2,::2] = 1\n",
        "x[::2,1::2] = 1\n",
        "print(x)"
      ]
    },
    {
      "cell_type": "markdown",
      "metadata": {
        "id": "CVJqL5InSZR3"
      },
      "source": [
        "#### 22. Normalize a 5x5 random matrix (★☆☆) \n",
        "(**hint**: (x - min) / (max - min))"
      ]
    },
    {
      "cell_type": "code",
      "execution_count": null,
      "metadata": {
        "id": "3t8nDbIVSZR3",
        "colab": {
          "base_uri": "https://localhost:8080/"
        },
        "outputId": "09c54f0d-92a0-46b6-d2ed-7e5705772646"
      },
      "outputs": [
        {
          "output_type": "stream",
          "name": "stdout",
          "text": [
            "Original Array:\n",
            "[[0.51802935 0.94230434 0.49904027 0.26884023 0.01387563]\n",
            " [0.33336804 0.73205081 0.39211605 0.78855861 0.38020894]\n",
            " [0.81748522 0.66149591 0.40161047 0.53584084 0.31412709]\n",
            " [0.96855095 0.5294871  0.7437396  0.99341398 0.50633702]\n",
            " [0.92043026 0.72799363 0.19607363 0.61225704 0.9841371 ]]\n",
            "After normalization:\n",
            "[[0.51468503 0.94782272 0.49529928 0.26029058 0.        ]\n",
            " [0.32616632 0.73317719 0.38614151 0.79086538 0.37398567]\n",
            " [0.82039625 0.66114847 0.39583426 0.53286859 0.30652343]\n",
            " [0.9746176  0.52638211 0.74511015 1.         0.50274845]\n",
            " [0.92549171 0.72903526 0.18600395 0.61088104 0.99052933]]\n"
          ]
        }
      ],
      "source": [
        "x= np.random.random((5,5))\n",
        "print(\"Original Array:\")\n",
        "print(x)\n",
        "xmax, xmin = x.max(), x.min()\n",
        "x = (x - xmin)/(xmax - xmin)\n",
        "print(\"After normalization:\")\n",
        "print(x)"
      ]
    },
    {
      "cell_type": "markdown",
      "metadata": {
        "id": "TVgrl8baSZR4"
      },
      "source": [
        "#### 23. Create a custom dtype that describes a color as four unsigned bytes (RGBA) (★☆☆) \n",
        "(**hint**: np.dtype)"
      ]
    },
    {
      "cell_type": "code",
      "execution_count": null,
      "metadata": {
        "collapsed": true,
        "id": "9UJ-lOFnSZR4"
      },
      "outputs": [],
      "source": [
        "color = np.dtype([(\"r\", np.ubyte),\n",
        "                  (\"g\", np.ubyte),\n",
        "                  (\"b\", np.ubyte),\n",
        "                  (\"a\", np.ubyte)])"
      ]
    },
    {
      "cell_type": "markdown",
      "metadata": {
        "id": "0X2ZRX3SSZR4"
      },
      "source": [
        "#### 24. Multiply a 5x3 matrix by a 3x2 matrix (real matrix product) (★☆☆) \n",
        "(**hint**: np.dot | @)"
      ]
    },
    {
      "cell_type": "code",
      "execution_count": null,
      "metadata": {
        "id": "TxRuKGLcSZR4",
        "colab": {
          "base_uri": "https://localhost:8080/"
        },
        "outputId": "499237c2-c7f6-45a3-fb3d-357a163770c0"
      },
      "outputs": [
        {
          "output_type": "stream",
          "name": "stdout",
          "text": [
            "First array:\n",
            "[[0.75742959 0.49489004 0.4780637 ]\n",
            " [0.25963753 0.08392872 0.53963673]\n",
            " [0.3628221  0.18334721 0.02700435]\n",
            " [0.92800622 0.84094383 0.29731777]\n",
            " [0.56382899 0.54156625 0.0486221 ]]\n",
            "Second array:\n",
            "[[0.19664463 0.47998773]\n",
            " [0.06831919 0.35837753]\n",
            " [0.90212007 0.33393405]]\n",
            "Dot product of two arrays:\n",
            "[[0.61402581 0.70055613]\n",
            " [0.5436074  0.33490408]\n",
            " [0.10823432 0.24887535]\n",
            " [0.50815637 0.8460915 ]\n",
            " [0.19173629 0.48095275]]\n"
          ]
        }
      ],
      "source": [
        "x = np.random.random((5,3))\n",
        "print(\"First array:\")\n",
        "print(x)\n",
        "y = np.random.random((3,2))\n",
        "print(\"Second array:\")\n",
        "print(y)\n",
        "z = np.dot(x, y)\n",
        "print(\"Dot product of two arrays:\")\n",
        "print(z)"
      ]
    },
    {
      "cell_type": "markdown",
      "metadata": {
        "id": "xZpHv2HLSZR5"
      },
      "source": [
        "#### 25. Given a 1D array, negate all elements which are between 3 and 8, in place. (★☆☆) \n",
        "(**hint**: >, <=)"
      ]
    },
    {
      "cell_type": "code",
      "execution_count": null,
      "metadata": {
        "id": "LIrC5XvpSZR5",
        "colab": {
          "base_uri": "https://localhost:8080/"
        },
        "outputId": "38d23957-3900-4c3c-b277-85f544a01e98"
      },
      "outputs": [
        {
          "output_type": "execute_result",
          "data": {
            "text/plain": [
              "array([ 0,  1,  2,  3,  4,  5,  6,  7,  8,  9, 10])"
            ]
          },
          "metadata": {},
          "execution_count": 88
        }
      ],
      "source": [
        "\n",
        "arr=np.arange(11)\n",
        "arr"
      ]
    },
    {
      "cell_type": "markdown",
      "metadata": {
        "id": "QQa7x08zSZR5"
      },
      "source": [
        "#### 26. What is the output of the following script? (★☆☆) \n",
        "(**hint**: np.sum)"
      ]
    },
    {
      "cell_type": "markdown",
      "metadata": {
        "id": "ckook2LDSZR5"
      },
      "source": [
        "```python\n",
        "# Author: Jake VanderPlas\n",
        "\n",
        "print(sum(range(5),-1))\n",
        "from numpy import *\n",
        "print(sum(range(5),-1))\n",
        "```"
      ]
    },
    {
      "cell_type": "code",
      "execution_count": null,
      "metadata": {
        "id": "vPVSZjxxSZR6",
        "colab": {
          "base_uri": "https://localhost:8080/",
          "height": 200
        },
        "outputId": "70a2dfe5-78c3-4ccf-d632-c0aeab99162e"
      },
      "outputs": [
        {
          "output_type": "error",
          "ename": "TypeError",
          "evalue": "ignored",
          "traceback": [
            "\u001b[0;31m---------------------------------------------------------------------------\u001b[0m",
            "\u001b[0;31mTypeError\u001b[0m                                 Traceback (most recent call last)",
            "\u001b[0;32m<ipython-input-90-3cdde29df6a5>\u001b[0m in \u001b[0;36m<module>\u001b[0;34m()\u001b[0m\n\u001b[0;32m----> 1\u001b[0;31m \u001b[0mprint\u001b[0m\u001b[0;34m(\u001b[0m\u001b[0msum\u001b[0m\u001b[0;34m(\u001b[0m\u001b[0mrange\u001b[0m\u001b[0;34m(\u001b[0m\u001b[0;36m5\u001b[0m\u001b[0;34m)\u001b[0m\u001b[0;34m,\u001b[0m\u001b[0;34m-\u001b[0m\u001b[0;36m1\u001b[0m\u001b[0;34m)\u001b[0m\u001b[0;34m)\u001b[0m\u001b[0;34m\u001b[0m\u001b[0;34m\u001b[0m\u001b[0m\n\u001b[0m\u001b[1;32m      2\u001b[0m \u001b[0;32mfrom\u001b[0m \u001b[0mnumpy\u001b[0m \u001b[0;32mimport\u001b[0m \u001b[0;34m*\u001b[0m\u001b[0;34m\u001b[0m\u001b[0;34m\u001b[0m\u001b[0m\n\u001b[1;32m      3\u001b[0m \u001b[0mprint\u001b[0m\u001b[0;34m(\u001b[0m\u001b[0msum\u001b[0m\u001b[0;34m(\u001b[0m\u001b[0mrange\u001b[0m\u001b[0;34m(\u001b[0m\u001b[0;36m5\u001b[0m\u001b[0;34m)\u001b[0m\u001b[0;34m,\u001b[0m\u001b[0;34m-\u001b[0m\u001b[0;36m1\u001b[0m\u001b[0;34m)\u001b[0m\u001b[0;34m)\u001b[0m\u001b[0;34m\u001b[0m\u001b[0;34m\u001b[0m\u001b[0m\n",
            "\u001b[0;31mTypeError\u001b[0m: 'numpy.ndarray' object is not callable"
          ]
        }
      ],
      "source": [
        "print(sum(range(5),-1))\n",
        "from numpy import *\n",
        "print(sum(range(5),-1))"
      ]
    },
    {
      "cell_type": "markdown",
      "metadata": {
        "id": "AIaD_C1iSZR6"
      },
      "source": [
        "#### 27. Consider an integer vector Z, which of these expressions are legal? (★☆☆)"
      ]
    },
    {
      "cell_type": "markdown",
      "metadata": {
        "id": "8Dudy6FHSZR6"
      },
      "source": [
        "```python\n",
        "Z**Z\n",
        "2 << Z >> 2\n",
        "Z <- Z\n",
        "1j*Z\n",
        "Z/1/1\n",
        "Z<Z>Z\n",
        "```"
      ]
    },
    {
      "cell_type": "code",
      "execution_count": null,
      "metadata": {
        "id": "W7vi2fRXSZR7",
        "colab": {
          "base_uri": "https://localhost:8080/"
        },
        "outputId": "9c48a629-f546-48b5-be1b-371fe5d7ea23"
      },
      "outputs": [
        {
          "output_type": "stream",
          "name": "stdout",
          "text": [
            "[        1         1         4        27       256      3125     46656\n",
            "    823543  16777216 387420489]\n",
            "[  0   1   2   4   8  16  32  64 128 256]\n",
            "[False False False False False False False False False False]\n",
            "[0.+0.j 0.+1.j 0.+2.j 0.+3.j 0.+4.j 0.+5.j 0.+6.j 0.+7.j 0.+8.j 0.+9.j]\n",
            "[0. 1. 2. 3. 4. 5. 6. 7. 8. 9.]\n"
          ]
        }
      ],
      "source": [
        "z=np.arange(10)\n",
        "print(z**z)\n",
        "print(2 << z >> 2)\n",
        "print(z <- z)\n",
        "print(1j*z)\n",
        "print(z/1/1)\n"
      ]
    },
    {
      "cell_type": "markdown",
      "metadata": {
        "id": "0ZvsaF_2SZR7"
      },
      "source": [
        "#### 28. What are the result of the following expressions?"
      ]
    },
    {
      "cell_type": "markdown",
      "metadata": {
        "id": "MPbEq9i-SZR7"
      },
      "source": [
        "```python\n",
        "np.array(0) / np.array(0)\n",
        "np.array(0) // np.array(0)\n",
        "np.array([np.nan]).astype(int).astype(float)\n",
        "```"
      ]
    },
    {
      "cell_type": "code",
      "execution_count": null,
      "metadata": {
        "id": "HU5oyyRwSZR8",
        "colab": {
          "base_uri": "https://localhost:8080/"
        },
        "outputId": "4d4c4eeb-3247-47f6-c0e2-61a5fa7a56e2"
      },
      "outputs": [
        {
          "output_type": "stream",
          "name": "stdout",
          "text": [
            "[-9.22337204e+18]\n"
          ]
        }
      ],
      "source": [
        "#print(np.array(0) / np.array(0))\n",
        "#print(np.array(0) // np.array(0))\n",
        "print(np.array([np.nan]).astype(int).astype(float))"
      ]
    },
    {
      "cell_type": "markdown",
      "metadata": {
        "id": "Who-gAFVSZR8"
      },
      "source": [
        "#### 29. How to round away from zero a float array ? (★☆☆) \n",
        "(**hint**: np.uniform, np.copysign, np.ceil, np.abs)"
      ]
    },
    {
      "cell_type": "code",
      "execution_count": null,
      "metadata": {
        "id": "DKELyvDaSZR8",
        "colab": {
          "base_uri": "https://localhost:8080/"
        },
        "outputId": "c5f8f847-b69b-4d66-b421-2457547a06df"
      },
      "outputs": [
        {
          "output_type": "stream",
          "name": "stdout",
          "text": [
            "[-5.5  2.3  1.4 -3.2 -5.3]\n",
            "[-6.  3.  2. -4. -6.]\n",
            "[5.5 2.3 1.4 3.2 5.3]\n",
            "[5. 2. 1. 3. 5.]\n",
            "[-5.  2.  1. -3. -5.]\n"
          ]
        }
      ],
      "source": [
        "z = np.array([-5.5,2.3,1.4,-3.2,-5.3])\n",
        "print(z)\n",
        "zz=np.copysign(np.ceil(np.abs(z)),z)\n",
        "print(zz)\n",
        "z1=np.abs(z)\n",
        "print(z1)\n",
        "z2=np.floor(z1)\n",
        "print(z2)\n",
        "z3=np.copysign(z2,z)\n",
        "print(z3)"
      ]
    },
    {
      "cell_type": "markdown",
      "metadata": {
        "id": "9XqReqiESZR8"
      },
      "source": [
        "#### 30. How to find common values between two arrays? (★☆☆) \n",
        "(**hint**: np.intersect1d)"
      ]
    },
    {
      "cell_type": "code",
      "execution_count": null,
      "metadata": {
        "id": "zYO2PcgdSZR9",
        "colab": {
          "base_uri": "https://localhost:8080/"
        },
        "outputId": "11988652-bc0d-49c0-9f28-a0d73d6b7a0b"
      },
      "outputs": [
        {
          "output_type": "stream",
          "name": "stdout",
          "text": [
            "[2 5 8 4 0 1 0 7 0 3]\n",
            "[0 1 4 8]\n"
          ]
        }
      ],
      "source": [
        "Z1 = np.random.randint(0,10,10)\n",
        "print(Z1)\n",
        "Z2 = np.random.randint(0,10,10)\n",
        "print(np.intersect1d(Z1,Z2))"
      ]
    },
    {
      "cell_type": "markdown",
      "metadata": {
        "id": "Qkf2936MSZR9"
      },
      "source": [
        "#### 31. How to ignore all numpy warnings (not recommended)? (★☆☆) \n",
        "(**hint**: np.seterr, np.errstate)"
      ]
    },
    {
      "cell_type": "code",
      "execution_count": null,
      "metadata": {
        "id": "DK1QW-jtSZR9",
        "colab": {
          "base_uri": "https://localhost:8080/"
        },
        "outputId": "2d254d48-ed5f-4243-acd8-b07f0de76d02"
      },
      "outputs": [
        {
          "output_type": "stream",
          "name": "stderr",
          "text": [
            "/usr/local/lib/python3.7/dist-packages/numpy/lib/nanfunctions.py:1120: RuntimeWarning: All-NaN slice encountered\n",
            "  overwrite_input=overwrite_input)\n"
          ]
        },
        {
          "output_type": "execute_result",
          "data": {
            "text/plain": [
              "array([nan, nan, nan, nan, nan, nan, nan, nan, nan, nan])"
            ]
          },
          "metadata": {},
          "execution_count": 95
        }
      ],
      "source": [
        "data = np.random.random(1000).reshape(10, 10,10) * np.nan\n",
        "np.seterr(all=\"ignore\")\n",
        "np.nanmedian(data, axis=[1, 2])"
      ]
    },
    {
      "cell_type": "markdown",
      "metadata": {
        "id": "xX7zAK3eSZR9"
      },
      "source": [
        "#### 32. Is the following expressions true? (★☆☆) \n",
        "(**hint**: imaginary number)"
      ]
    },
    {
      "cell_type": "markdown",
      "metadata": {
        "id": "omfFxGbSSZR-"
      },
      "source": [
        "```python\n",
        "np.sqrt(-1) == np.emath.sqrt(-1)\n",
        "```"
      ]
    },
    {
      "cell_type": "code",
      "execution_count": null,
      "metadata": {
        "id": "Qle0zpfxSZR-",
        "colab": {
          "base_uri": "https://localhost:8080/"
        },
        "outputId": "47e3d3bc-b2d2-4181-889c-e99feb932fea"
      },
      "outputs": [
        {
          "output_type": "execute_result",
          "data": {
            "text/plain": [
              "False"
            ]
          },
          "metadata": {},
          "execution_count": 96
        }
      ],
      "source": [
        "np.sqrt(-1) == np.emath.sqrt(-1)"
      ]
    },
    {
      "cell_type": "markdown",
      "metadata": {
        "id": "KGoXSy-lSZR-"
      },
      "source": [
        "#### 33. How to get the dates of yesterday, today and tomorrow? (★☆☆) \n",
        "(**hint**: np.datetime64, np.timedelta64)"
      ]
    },
    {
      "cell_type": "code",
      "execution_count": null,
      "metadata": {
        "collapsed": true,
        "id": "omyPZiWJSZR-",
        "colab": {
          "base_uri": "https://localhost:8080/"
        },
        "outputId": "51cdef1c-d0c6-4b9a-b867-1d38f1c0b78f"
      },
      "outputs": [
        {
          "output_type": "stream",
          "name": "stdout",
          "text": [
            "2022-02-20\n",
            "2022-02-19\n",
            "2022-02-21\n"
          ]
        }
      ],
      "source": [
        "print(np.datetime64('today'))\n",
        "print(np.datetime64('today') - np.timedelta64(1))\n",
        "print(np.datetime64('today') + np.timedelta64(1))"
      ]
    },
    {
      "cell_type": "markdown",
      "metadata": {
        "id": "jDaYPl0SSZR_"
      },
      "source": [
        "#### 34. How to get all the dates corresponding to the month of July 2016? (★★☆) \n",
        "(**hint**: np.arange(dtype=datetime64\\['D'\\]))"
      ]
    },
    {
      "cell_type": "code",
      "execution_count": null,
      "metadata": {
        "id": "coxnrNd2SZR_",
        "colab": {
          "base_uri": "https://localhost:8080/"
        },
        "outputId": "0e7d3327-dcba-44fe-cc88-71952afbfa5b"
      },
      "outputs": [
        {
          "output_type": "stream",
          "name": "stdout",
          "text": [
            "['2016-07-01' '2016-07-02' '2016-07-03' '2016-07-04' '2016-07-05'\n",
            " '2016-07-06' '2016-07-07' '2016-07-08' '2016-07-09' '2016-07-10'\n",
            " '2016-07-11' '2016-07-12' '2016-07-13' '2016-07-14' '2016-07-15'\n",
            " '2016-07-16' '2016-07-17' '2016-07-18' '2016-07-19' '2016-07-20'\n",
            " '2016-07-21' '2016-07-22' '2016-07-23' '2016-07-24' '2016-07-25'\n",
            " '2016-07-26' '2016-07-27' '2016-07-28' '2016-07-29' '2016-07-30'\n",
            " '2016-07-31']\n"
          ]
        }
      ],
      "source": [
        "Z = np.arange('2016-07', '2016-08', dtype='datetime64[D]')\n",
        "print(Z)"
      ]
    },
    {
      "cell_type": "markdown",
      "metadata": {
        "id": "vDsMpa4BSZR_"
      },
      "source": [
        "#### 35. How to compute ((A+B)\\*(-A/2)) in place (without copy)? (★★☆) \n",
        "(**hint**: np.add(out=), np.negative(out=), np.multiply(out=), np.divide(out=))"
      ]
    },
    {
      "cell_type": "code",
      "execution_count": null,
      "metadata": {
        "id": "PAbaq2m6SZR_",
        "colab": {
          "base_uri": "https://localhost:8080/"
        },
        "outputId": "3eb4ba23-1f9d-4c20-d333-45d4fce264aa"
      },
      "outputs": [
        {
          "output_type": "stream",
          "name": "stdout",
          "text": [
            "50.0\n",
            "50.0\n"
          ]
        }
      ],
      "source": [
        "A = -10\n",
        "B = 20\n",
        "z = ((A+B)*(-A/2))\n",
        "print(z)\n",
        "\n",
        "B = np.add(A,B)\n",
        "A = np.divide(A,2)\n",
        "A = np.negative(A)\n",
        "A = np.multiply(A,B)\n",
        "print(A)"
      ]
    },
    {
      "cell_type": "markdown",
      "metadata": {
        "id": "7thOt0f5SZR_"
      },
      "source": [
        "#### 36. Extract the integer part of a random array using 5 different methods (★★☆) \n",
        "(**hint**: %, np.floor, np.ceil, astype, np.trunc)"
      ]
    },
    {
      "cell_type": "code",
      "execution_count": null,
      "metadata": {
        "id": "4aaOtNvGSZSA",
        "colab": {
          "base_uri": "https://localhost:8080/"
        },
        "outputId": "c4cfa2e0-1b02-4cf3-fe76-9789a929fb2e"
      },
      "outputs": [
        {
          "output_type": "stream",
          "name": "stdout",
          "text": [
            "[4.19863716 2.32278257 2.367856   7.41519231 3.23159965]\n",
            "[4. 2. 2. 7. 3.]\n",
            "[4 2 2 7 3]\n",
            "[4. 2. 2. 7. 3.]\n",
            "[4. 2. 2. 7. 3.]\n"
          ]
        }
      ],
      "source": [
        "z = np.random.uniform(0,10,5)\n",
        "print(z)\n",
        "print(z-z%1)\n",
        "print(z.astype(int))\n",
        "print(z//1)\n",
        "print(np.floor(z))"
      ]
    },
    {
      "cell_type": "markdown",
      "metadata": {
        "id": "WpcPpeyGSZSA"
      },
      "source": [
        "#### 37. Create a 5x5 matrix with row values ranging from 0 to 4 (★★☆) \n",
        "(**hint**: np.arange)"
      ]
    },
    {
      "cell_type": "code",
      "execution_count": null,
      "metadata": {
        "id": "Y6Sx_wrdSZSA",
        "colab": {
          "base_uri": "https://localhost:8080/"
        },
        "outputId": "2c549456-e59a-4dc7-dc24-6d01c21ca211"
      },
      "outputs": [
        {
          "output_type": "stream",
          "name": "stdout",
          "text": [
            "[[3 3 1 0 2]\n",
            " [2 2 0 3 0]\n",
            " [3 0 2 3 2]\n",
            " [3 2 2 0 2]\n",
            " [3 2 3 1 0]]\n"
          ]
        }
      ],
      "source": [
        "Z = np.random.randint(0,4,25).reshape(5,5)\n",
        "print(Z)"
      ]
    },
    {
      "cell_type": "markdown",
      "metadata": {
        "id": "hd-3ZcqdSZSA"
      },
      "source": [
        "#### 38. Consider a generator function that generates 10 integers and use it to build an array (★☆☆) \n",
        "(**hint**: np.fromiter)"
      ]
    },
    {
      "cell_type": "code",
      "execution_count": null,
      "metadata": {
        "id": "j0tJi3hRSZSB",
        "colab": {
          "base_uri": "https://localhost:8080/"
        },
        "outputId": "4b3017da-8018-4989-e305-056de8976ad1"
      },
      "outputs": [
        {
          "output_type": "stream",
          "name": "stdout",
          "text": [
            "[0. 1. 2. 3. 4. 5. 6. 7. 8. 9.]\n"
          ]
        }
      ],
      "source": [
        "def generate():\n",
        "    for x in range(10):\n",
        "        yield x\n",
        "Z = np.fromiter(generate(),dtype=float,count=-1)\n",
        "print(Z)"
      ]
    },
    {
      "cell_type": "markdown",
      "metadata": {
        "id": "IfdiYFTVSZSB"
      },
      "source": [
        "#### 39. Create a vector of size 10 with values ranging from 0 to 1, both excluded (★★☆) \n",
        "(**hint**: np.linspace)"
      ]
    },
    {
      "cell_type": "code",
      "execution_count": null,
      "metadata": {
        "id": "FpCHUfwQSZSB",
        "colab": {
          "base_uri": "https://localhost:8080/"
        },
        "outputId": "cdce9d14-2b76-44ef-9d5e-3ce8fc59465a"
      },
      "outputs": [
        {
          "output_type": "stream",
          "name": "stdout",
          "text": [
            "[0.09090909 0.18181818 0.27272727 0.36363636 0.45454545 0.54545455\n",
            " 0.63636364 0.72727273 0.81818182 0.90909091]\n",
            "[0.09503009 0.50168177 0.8492403  0.43060843 0.2247216  0.0557553\n",
            " 0.46709847 0.74393837 0.91438381 0.40991881]\n"
          ]
        }
      ],
      "source": [
        "Z = np.linspace(0,1,11,endpoint=False)[1:]\n",
        "print(Z)\n",
        "\n",
        "z = np.random.rand(10)\n",
        "print(z)"
      ]
    },
    {
      "cell_type": "markdown",
      "metadata": {
        "id": "EUKIpgaeSZSB"
      },
      "source": [
        "#### 40. Create a random vector of size 10 and sort it (★★☆) \n",
        "(**hint**: sort)"
      ]
    },
    {
      "cell_type": "code",
      "execution_count": null,
      "metadata": {
        "id": "hAkPL4ljSZSB",
        "colab": {
          "base_uri": "https://localhost:8080/"
        },
        "outputId": "583c207f-9505-42be-9c7d-e3b35168c510"
      },
      "outputs": [
        {
          "output_type": "stream",
          "name": "stdout",
          "text": [
            "[22 15 25 33 13 30 11 16 44 25]\n",
            "[11 13 15 16 22 25 25 30 33 44]\n"
          ]
        }
      ],
      "source": [
        "z = np.random.uniform(10,50,10)\n",
        "print(z.astype(int))\n",
        "z.sort()\n",
        "print(z.astype(int))"
      ]
    },
    {
      "cell_type": "markdown",
      "metadata": {
        "id": "5ooU1_MZSZSC"
      },
      "source": [
        "#### 41. How to sum a small array faster than np.sum? (★★☆) \n",
        "(**hint**: np.add.reduce)"
      ]
    },
    {
      "cell_type": "code",
      "execution_count": null,
      "metadata": {
        "id": "XBpm1wcPSZSC",
        "colab": {
          "base_uri": "https://localhost:8080/"
        },
        "outputId": "72075e6f-8f8b-48ec-98d5-bc157fe6c1c7"
      },
      "outputs": [
        {
          "output_type": "execute_result",
          "data": {
            "text/plain": [
              "45"
            ]
          },
          "metadata": {},
          "execution_count": 105
        }
      ],
      "source": [
        "z = np.arange(10)\n",
        "np.add.reduce(z)"
      ]
    },
    {
      "cell_type": "markdown",
      "metadata": {
        "id": "z3I5HgMDSZSC"
      },
      "source": [
        "#### 42. Consider two random array A and B, check if they are equal (★★☆) \n",
        "(**hint**: np.allclose, np.array\\_equal)"
      ]
    },
    {
      "cell_type": "code",
      "execution_count": null,
      "metadata": {
        "id": "33iPndvpSZSC",
        "colab": {
          "base_uri": "https://localhost:8080/"
        },
        "outputId": "0de00eba-89a8-4584-f237-9b1479db4998"
      },
      "outputs": [
        {
          "output_type": "stream",
          "name": "stdout",
          "text": [
            "False\n",
            "False\n"
          ]
        }
      ],
      "source": [
        "A = np.random.randint(0,2,5)\n",
        "B = np.random.randint(0,2,5)\n",
        "\n",
        "#Assuming identical shape of the arrays and a tolerance for the comparison of values\n",
        "equal = np.allclose(A,B)\n",
        "print(equal)\n",
        "\n",
        "#Checking both the shape and the element values, no tolerance (values have to be exactly equal)\n",
        "equal = np.array_equal(A,B)\n",
        "print(equal)"
      ]
    },
    {
      "cell_type": "markdown",
      "metadata": {
        "id": "-XXVUX9JSZSD"
      },
      "source": [
        "#### 43. Make an array immutable (read-only) (★★☆) \n",
        "(**hint**: flags.writeable)"
      ]
    },
    {
      "cell_type": "code",
      "execution_count": null,
      "metadata": {
        "id": "KqEJNEX4SZSD",
        "colab": {
          "base_uri": "https://localhost:8080/"
        },
        "outputId": "d030a537-abb8-4678-b530-70265866c1a7"
      },
      "outputs": [
        {
          "output_type": "stream",
          "name": "stdout",
          "text": [
            "False\n"
          ]
        }
      ],
      "source": [
        "A = np.array([5,2,4,6,4,5,5])\n",
        "B = np.array([5,2,9,7,6,4,6])\n",
        "\n",
        "equal = np.array_equal(A,B)\n",
        "print(equal)"
      ]
    },
    {
      "cell_type": "markdown",
      "metadata": {
        "id": "SmQE1l2DSZSD"
      },
      "source": [
        "#### 44. Consider a random 10x2 matrix representing cartesian coordinates, convert them to polar coordinates (★★☆) \n",
        "(**hint**: np.sqrt, np.arctan2)"
      ]
    },
    {
      "cell_type": "code",
      "execution_count": null,
      "metadata": {
        "id": "cizJ_URoSZSD",
        "colab": {
          "base_uri": "https://localhost:8080/"
        },
        "outputId": "db1bbf3d-6e8a-41e3-d200-9f26a65c8139"
      },
      "outputs": [
        {
          "output_type": "stream",
          "name": "stdout",
          "text": [
            "[1.06174527 0.48318126 0.84007927 0.74464269 0.99696252 0.58091715\n",
            " 0.77764609 0.89425551 1.05813836 0.67823289]\n",
            "[0.9752916  1.19392147 0.7281917  0.14760091 0.656636   1.09765746\n",
            " 0.53595497 1.3494187  0.80994022 1.38113786]\n"
          ]
        }
      ],
      "source": [
        "z= np.random.random((10,2))\n",
        "x,y = z[:,0], z[:,1]\n",
        "r = np.sqrt(x**2+y**2)\n",
        "t = np.arctan2(y,x)\n",
        "print(r)\n",
        "print(t)"
      ]
    },
    {
      "cell_type": "markdown",
      "metadata": {
        "id": "7a2S9cPJSZSD"
      },
      "source": [
        "#### 45. Create random vector of size 10 and replace the maximum value by 0 (★★☆) \n",
        "(**hint**: argmax)"
      ]
    },
    {
      "cell_type": "code",
      "execution_count": null,
      "metadata": {
        "id": "eszeGLueSZSE",
        "colab": {
          "base_uri": "https://localhost:8080/"
        },
        "outputId": "5ad21433-33a6-40de-cf94-ecc30248357f"
      },
      "outputs": [
        {
          "output_type": "stream",
          "name": "stdout",
          "text": [
            "9\n",
            "[0 1 2 3 4 5 6 7 8 0]\n"
          ]
        }
      ],
      "source": [
        "z = np.arange(10)\n",
        "max(z)\n",
        "print(z.argmax())\n",
        "z[9] = 0\n",
        "print(z)"
      ]
    },
    {
      "cell_type": "markdown",
      "metadata": {
        "id": "odkpavcuSZSE"
      },
      "source": [
        "#### 46. Create a structured array with `x` and `y` coordinates covering the \\[0,1\\]x\\[0,1\\] area (★★☆) \n",
        "(**hint**: np.meshgrid)"
      ]
    },
    {
      "cell_type": "code",
      "execution_count": null,
      "metadata": {
        "id": "7BINjIDWSZSE",
        "colab": {
          "base_uri": "https://localhost:8080/"
        },
        "outputId": "150fe050-b192-497f-c5cf-1c450788ba59"
      },
      "outputs": [
        {
          "output_type": "stream",
          "name": "stdout",
          "text": [
            "[[(0.  , 0.  ) (0.25, 0.  ) (0.5 , 0.  ) (0.75, 0.  ) (1.  , 0.  )]\n",
            " [(0.  , 0.25) (0.25, 0.25) (0.5 , 0.25) (0.75, 0.25) (1.  , 0.25)]\n",
            " [(0.  , 0.5 ) (0.25, 0.5 ) (0.5 , 0.5 ) (0.75, 0.5 ) (1.  , 0.5 )]\n",
            " [(0.  , 0.75) (0.25, 0.75) (0.5 , 0.75) (0.75, 0.75) (1.  , 0.75)]\n",
            " [(0.  , 1.  ) (0.25, 1.  ) (0.5 , 1.  ) (0.75, 1.  ) (1.  , 1.  )]]\n"
          ]
        }
      ],
      "source": [
        "\n",
        "Z = np.zeros((5,5), [('x',float),('y',float)])\n",
        "Z['x'], Z['y'] = np.meshgrid(np.linspace(0,1,5),\n",
        "                             np.linspace(0,1,5))\n",
        "print(Z)"
      ]
    },
    {
      "cell_type": "markdown",
      "metadata": {
        "id": "i2bxg2YhSZSE"
      },
      "source": [
        "####  47. Given two arrays, X and Y, construct the Cauchy matrix C (Cij =1/(xi - yj)) \n",
        "(**hint**: np.subtract.outer)"
      ]
    },
    {
      "cell_type": "code",
      "execution_count": null,
      "metadata": {
        "id": "KHlll07aSZSF",
        "colab": {
          "base_uri": "https://localhost:8080/"
        },
        "outputId": "e7136272-7fd6-41c1-a90c-63e39469633f"
      },
      "outputs": [
        {
          "output_type": "stream",
          "name": "stdout",
          "text": [
            "3638.163637117973\n"
          ]
        }
      ],
      "source": [
        "\n",
        "X = np.arange(8)\n",
        "Y = X + 0.5\n",
        "C = 1.0 / np.subtract.outer(X, Y)\n",
        "print(np.linalg.det(C))"
      ]
    },
    {
      "cell_type": "markdown",
      "metadata": {
        "id": "O5o3vS1oSZSF"
      },
      "source": [
        "#### 48. Print the minimum and maximum representable value for each numpy scalar type (★★☆) \n",
        "(**hint**: np.iinfo, np.finfo, eps)"
      ]
    },
    {
      "cell_type": "code",
      "execution_count": null,
      "metadata": {
        "id": "v3IVJG9WSZSF",
        "colab": {
          "base_uri": "https://localhost:8080/"
        },
        "outputId": "0cb5fec9-4dd6-4c5d-9306-5fb0458c8d69"
      },
      "outputs": [
        {
          "output_type": "stream",
          "name": "stdout",
          "text": [
            "-128\n",
            "127\n",
            "-2147483648\n",
            "2147483647\n",
            "-9223372036854775808\n",
            "9223372036854775807\n",
            "-3.4028235e+38\n",
            "3.4028235e+38\n",
            "1.1920929e-07\n",
            "-1.7976931348623157e+308\n",
            "1.7976931348623157e+308\n",
            "2.220446049250313e-16\n"
          ]
        }
      ],
      "source": [
        "for dtype in [np.int8, np.int32, np.int64]:\n",
        "   print(np.iinfo(dtype).min)\n",
        "   print(np.iinfo(dtype).max)\n",
        "for dtype in [np.float32, np.float64]:\n",
        "   print(np.finfo(dtype).min)\n",
        "   print(np.finfo(dtype).max)\n",
        "   print(np.finfo(dtype).eps)"
      ]
    },
    {
      "cell_type": "markdown",
      "metadata": {
        "id": "6CmlyabhSZSF"
      },
      "source": [
        "#### 49. How to print all the values of an array? (★★☆) \n",
        "(**hint**: np.set\\_printoptions)"
      ]
    },
    {
      "cell_type": "code",
      "execution_count": null,
      "metadata": {
        "id": "9gTDihOoSZSF",
        "colab": {
          "base_uri": "https://localhost:8080/"
        },
        "outputId": "d777cc2f-52ca-4ffc-fc00-e5ae81dbb360"
      },
      "outputs": [
        {
          "output_type": "stream",
          "name": "stdout",
          "text": [
            "[   0    1    2 ...  998  999 1000]\n",
            "[   0    1    2    3    4    5    6    7    8    9   10   11   12   13\n",
            "   14   15   16   17   18   19   20   21   22   23   24   25   26   27\n",
            "   28   29   30   31   32   33   34   35   36   37   38   39   40   41\n",
            "   42   43   44   45   46   47   48   49   50   51   52   53   54   55\n",
            "   56   57   58   59   60   61   62   63   64   65   66   67   68   69\n",
            "   70   71   72   73   74   75   76   77   78   79   80   81   82   83\n",
            "   84   85   86   87   88   89   90   91   92   93   94   95   96   97\n",
            "   98   99  100  101  102  103  104  105  106  107  108  109  110  111\n",
            "  112  113  114  115  116  117  118  119  120  121  122  123  124  125\n",
            "  126  127  128  129  130  131  132  133  134  135  136  137  138  139\n",
            "  140  141  142  143  144  145  146  147  148  149  150  151  152  153\n",
            "  154  155  156  157  158  159  160  161  162  163  164  165  166  167\n",
            "  168  169  170  171  172  173  174  175  176  177  178  179  180  181\n",
            "  182  183  184  185  186  187  188  189  190  191  192  193  194  195\n",
            "  196  197  198  199  200  201  202  203  204  205  206  207  208  209\n",
            "  210  211  212  213  214  215  216  217  218  219  220  221  222  223\n",
            "  224  225  226  227  228  229  230  231  232  233  234  235  236  237\n",
            "  238  239  240  241  242  243  244  245  246  247  248  249  250  251\n",
            "  252  253  254  255  256  257  258  259  260  261  262  263  264  265\n",
            "  266  267  268  269  270  271  272  273  274  275  276  277  278  279\n",
            "  280  281  282  283  284  285  286  287  288  289  290  291  292  293\n",
            "  294  295  296  297  298  299  300  301  302  303  304  305  306  307\n",
            "  308  309  310  311  312  313  314  315  316  317  318  319  320  321\n",
            "  322  323  324  325  326  327  328  329  330  331  332  333  334  335\n",
            "  336  337  338  339  340  341  342  343  344  345  346  347  348  349\n",
            "  350  351  352  353  354  355  356  357  358  359  360  361  362  363\n",
            "  364  365  366  367  368  369  370  371  372  373  374  375  376  377\n",
            "  378  379  380  381  382  383  384  385  386  387  388  389  390  391\n",
            "  392  393  394  395  396  397  398  399  400  401  402  403  404  405\n",
            "  406  407  408  409  410  411  412  413  414  415  416  417  418  419\n",
            "  420  421  422  423  424  425  426  427  428  429  430  431  432  433\n",
            "  434  435  436  437  438  439  440  441  442  443  444  445  446  447\n",
            "  448  449  450  451  452  453  454  455  456  457  458  459  460  461\n",
            "  462  463  464  465  466  467  468  469  470  471  472  473  474  475\n",
            "  476  477  478  479  480  481  482  483  484  485  486  487  488  489\n",
            "  490  491  492  493  494  495  496  497  498  499  500  501  502  503\n",
            "  504  505  506  507  508  509  510  511  512  513  514  515  516  517\n",
            "  518  519  520  521  522  523  524  525  526  527  528  529  530  531\n",
            "  532  533  534  535  536  537  538  539  540  541  542  543  544  545\n",
            "  546  547  548  549  550  551  552  553  554  555  556  557  558  559\n",
            "  560  561  562  563  564  565  566  567  568  569  570  571  572  573\n",
            "  574  575  576  577  578  579  580  581  582  583  584  585  586  587\n",
            "  588  589  590  591  592  593  594  595  596  597  598  599  600  601\n",
            "  602  603  604  605  606  607  608  609  610  611  612  613  614  615\n",
            "  616  617  618  619  620  621  622  623  624  625  626  627  628  629\n",
            "  630  631  632  633  634  635  636  637  638  639  640  641  642  643\n",
            "  644  645  646  647  648  649  650  651  652  653  654  655  656  657\n",
            "  658  659  660  661  662  663  664  665  666  667  668  669  670  671\n",
            "  672  673  674  675  676  677  678  679  680  681  682  683  684  685\n",
            "  686  687  688  689  690  691  692  693  694  695  696  697  698  699\n",
            "  700  701  702  703  704  705  706  707  708  709  710  711  712  713\n",
            "  714  715  716  717  718  719  720  721  722  723  724  725  726  727\n",
            "  728  729  730  731  732  733  734  735  736  737  738  739  740  741\n",
            "  742  743  744  745  746  747  748  749  750  751  752  753  754  755\n",
            "  756  757  758  759  760  761  762  763  764  765  766  767  768  769\n",
            "  770  771  772  773  774  775  776  777  778  779  780  781  782  783\n",
            "  784  785  786  787  788  789  790  791  792  793  794  795  796  797\n",
            "  798  799  800  801  802  803  804  805  806  807  808  809  810  811\n",
            "  812  813  814  815  816  817  818  819  820  821  822  823  824  825\n",
            "  826  827  828  829  830  831  832  833  834  835  836  837  838  839\n",
            "  840  841  842  843  844  845  846  847  848  849  850  851  852  853\n",
            "  854  855  856  857  858  859  860  861  862  863  864  865  866  867\n",
            "  868  869  870  871  872  873  874  875  876  877  878  879  880  881\n",
            "  882  883  884  885  886  887  888  889  890  891  892  893  894  895\n",
            "  896  897  898  899  900  901  902  903  904  905  906  907  908  909\n",
            "  910  911  912  913  914  915  916  917  918  919  920  921  922  923\n",
            "  924  925  926  927  928  929  930  931  932  933  934  935  936  937\n",
            "  938  939  940  941  942  943  944  945  946  947  948  949  950  951\n",
            "  952  953  954  955  956  957  958  959  960  961  962  963  964  965\n",
            "  966  967  968  969  970  971  972  973  974  975  976  977  978  979\n",
            "  980  981  982  983  984  985  986  987  988  989  990  991  992  993\n",
            "  994  995  996  997  998  999 1000]\n"
          ]
        }
      ],
      "source": [
        "my_array = np. arange(1001)\n",
        "print(my_array)\n",
        "np. set_printoptions(threshold=np. inf)\n",
        "print(my_array)"
      ]
    },
    {
      "cell_type": "markdown",
      "metadata": {
        "id": "LK_eogZkSZSG"
      },
      "source": [
        "#### 50. How to find the closest value (to a given scalar) in a vector? (★★☆) \n",
        "(**hint**: argmin)"
      ]
    },
    {
      "cell_type": "code",
      "execution_count": null,
      "metadata": {
        "id": "mToJCQeBSZSG",
        "colab": {
          "base_uri": "https://localhost:8080/"
        },
        "outputId": "d4b0738e-7f4e-46bc-e95e-6db9744eae9d"
      },
      "outputs": [
        {
          "output_type": "stream",
          "name": "stdout",
          "text": [
            "15\n"
          ]
        }
      ],
      "source": [
        "Z = np.arange(100)\n",
        "v = np.random.uniform(0,100)\n",
        "index = (np.abs(Z-v)).argmin()\n",
        "print(Z[index])"
      ]
    },
    {
      "cell_type": "markdown",
      "metadata": {
        "id": "roPXNc9qSZSG"
      },
      "source": [
        "#### 51. Create a structured array representing a position (x,y) and a color (r,g,b) (★★☆) \n",
        "(**hint**: dtype)"
      ]
    },
    {
      "cell_type": "code",
      "execution_count": null,
      "metadata": {
        "id": "E1ATw3JPSZSG",
        "colab": {
          "base_uri": "https://localhost:8080/"
        },
        "outputId": "2975a753-8e69-4480-84aa-bd125c7eade6"
      },
      "outputs": [
        {
          "output_type": "stream",
          "name": "stdout",
          "text": [
            "[((0., 0.), (0., 0., 0.)) ((0., 0.), (0., 0., 0.))\n",
            " ((0., 0.), (0., 0., 0.)) ((0., 0.), (0., 0., 0.))\n",
            " ((0., 0.), (0., 0., 0.)) ((0., 0.), (0., 0., 0.))\n",
            " ((0., 0.), (0., 0., 0.)) ((0., 0.), (0., 0., 0.))\n",
            " ((0., 0.), (0., 0., 0.)) ((0., 0.), (0., 0., 0.))]\n"
          ]
        },
        {
          "output_type": "stream",
          "name": "stderr",
          "text": [
            "/usr/local/lib/python3.7/dist-packages/ipykernel_launcher.py:5: FutureWarning: Passing (type, 1) or '1type' as a synonym of type is deprecated; in a future version of numpy, it will be understood as (type, (1,)) / '(1,)type'.\n",
            "  \"\"\"\n"
          ]
        }
      ],
      "source": [
        "Z = np.zeros(10, [ ('position', [ ('x', float, 1),\n",
        "                                  ('y', float, 1)]),\n",
        "                   ('color',    [ ('r', float, 1),\n",
        "                                  ('g', float, 1),\n",
        "                                  ('b', float, 1)])])\n",
        "print(Z)"
      ]
    },
    {
      "cell_type": "markdown",
      "metadata": {
        "id": "HoFpYOfrSZSH"
      },
      "source": [
        "#### 52. Consider a random vector with shape (100,2) representing coordinates, find point by point distances (★★☆) \n",
        "(**hint**: np.atleast\\_2d, T, np.sqrt)"
      ]
    },
    {
      "cell_type": "code",
      "execution_count": null,
      "metadata": {
        "id": "b_plcddWSZSH",
        "colab": {
          "base_uri": "https://localhost:8080/"
        },
        "outputId": "011fe59e-acb1-4672-c70e-63f960a04666"
      },
      "outputs": [
        {
          "output_type": "stream",
          "name": "stdout",
          "text": [
            "[[0.         0.24166985 0.52172879 0.87552868 0.67140086 0.64072824\n",
            "  0.39836438 0.47283071 0.96580923 0.80117683]\n",
            " [0.24166985 0.         0.32730047 0.63511716 0.65350129 0.43774838\n",
            "  0.40066229 0.26513344 0.769305   0.79001014]\n",
            " [0.52172879 0.32730047 0.         0.51856504 0.93800851 0.53856266\n",
            "  0.7118563  0.06799246 0.82623799 1.07148189]\n",
            " [0.87552868 0.63511716 0.51856504 0.         0.90677072 0.36451234\n",
            "  0.81437816 0.50321959 0.42658845 1.00704369]\n",
            " [0.67140086 0.65350129 0.93800851 0.90677072 0.         0.5438983\n",
            "  0.27391366 0.87010859 0.67315564 0.13653101]\n",
            " [0.64072824 0.43774838 0.53856266 0.36451234 0.5438983  0.\n",
            "  0.46659921 0.4829482  0.33155861 0.65075589]\n",
            " [0.39836438 0.40066229 0.7118563  0.81437816 0.27391366 0.46659921\n",
            "  0.         0.6445901  0.71918336 0.40676674]\n",
            " [0.47283071 0.26513344 0.06799246 0.50321959 0.87010859 0.4829482\n",
            "  0.6445901  0.         0.78161376 1.00371534]\n",
            " [0.96580923 0.769305   0.82623799 0.42658845 0.67315564 0.33155861\n",
            "  0.71918336 0.78161376 0.         0.72703203]\n",
            " [0.80117683 0.79001014 1.07148189 1.00704369 0.13653101 0.65075589\n",
            "  0.40676674 1.00371534 0.72703203 0.        ]]\n"
          ]
        }
      ],
      "source": [
        "import scipy\n",
        "\n",
        "import scipy.spatial\n",
        "\n",
        "Z = np.random.random((10,2))\n",
        "D = scipy.spatial.distance.cdist(Z,Z)\n",
        "print(D)"
      ]
    },
    {
      "cell_type": "markdown",
      "metadata": {
        "id": "_oK55L-SSZSH"
      },
      "source": [
        "#### 53. How to convert a float (32 bits) array into an integer (32 bits) in place? \n",
        "(**hint**: astype(copy=False))"
      ]
    },
    {
      "cell_type": "code",
      "execution_count": null,
      "metadata": {
        "id": "JzFGhgrcSZSH",
        "colab": {
          "base_uri": "https://localhost:8080/"
        },
        "outputId": "d230056d-520b-45ab-9e1f-8a521a3f0648"
      },
      "outputs": [
        {
          "output_type": "stream",
          "name": "stdout",
          "text": [
            "[56 65 36 16 24 12 15 86 44 21]\n"
          ]
        }
      ],
      "source": [
        "Z = (np.random.rand(10)*100).astype(np.float32)\n",
        "Y = Z.view(np.int32)\n",
        "Y[:] = Z\n",
        "print(Y)"
      ]
    },
    {
      "cell_type": "markdown",
      "metadata": {
        "id": "CjI_9HXJSZSI"
      },
      "source": [
        "#### 54. How to read the following file? (★★☆) \n",
        "(**hint**: np.genfromtxt)"
      ]
    },
    {
      "cell_type": "markdown",
      "metadata": {
        "id": "8itH4bVMSZSI"
      },
      "source": [
        "```\n",
        "1, 2, 3, 4, 5\n",
        "6,  ,  , 7, 8\n",
        " ,  , 9,10,11\n",
        "```"
      ]
    },
    {
      "cell_type": "code",
      "execution_count": null,
      "metadata": {
        "id": "Yn5WGIlUSZSI",
        "colab": {
          "base_uri": "https://localhost:8080/"
        },
        "outputId": "74de5372-d690-45c3-e5e0-aae33b86cb6e"
      },
      "outputs": [
        {
          "output_type": "stream",
          "name": "stdout",
          "text": [
            "[[ 1  2  3  4  5]\n",
            " [ 6 -1 -1  7  8]\n",
            " [-1 -1  9 10 11]]\n"
          ]
        },
        {
          "output_type": "stream",
          "name": "stderr",
          "text": [
            "/usr/local/lib/python3.7/dist-packages/ipykernel_launcher.py:8: DeprecationWarning: `np.int` is a deprecated alias for the builtin `int`. To silence this warning, use `int` by itself. Doing this will not modify any behavior and is safe. When replacing `np.int`, you may wish to use e.g. `np.int64` or `np.int32` to specify the precision. If you wish to review your current use, check the release note link for additional information.\n",
            "Deprecated in NumPy 1.20; for more details and guidance: https://numpy.org/devdocs/release/1.20.0-notes.html#deprecations\n",
            "  \n"
          ]
        }
      ],
      "source": [
        "from io import StringIO\n",
        "\n",
        "\n",
        "s = StringIO('''1, 2, 3, 4, 5\n",
        "                6,  ,  , 7, 8\n",
        "                 ,  , 9,10,11\n",
        "''')\n",
        "Z = np.genfromtxt(s, delimiter=\",\", dtype=np.int)\n",
        "print(Z)"
      ]
    },
    {
      "cell_type": "markdown",
      "metadata": {
        "id": "ZCf0HDz-SZSI"
      },
      "source": [
        "#### 55. What is the equivalent of enumerate for numpy arrays? (★★☆) \n",
        "(**hint**: np.ndenumerate, np.ndindex)"
      ]
    },
    {
      "cell_type": "code",
      "execution_count": null,
      "metadata": {
        "id": "Heyd6BCDSZSJ",
        "colab": {
          "base_uri": "https://localhost:8080/"
        },
        "outputId": "5e4da735-e617-4a03-b546-77c730fe4339"
      },
      "outputs": [
        {
          "output_type": "stream",
          "name": "stdout",
          "text": [
            "(0, 0) 0\n",
            "(0, 1) 1\n",
            "(0, 2) 2\n",
            "(1, 0) 3\n",
            "(1, 1) 4\n",
            "(1, 2) 5\n",
            "(2, 0) 6\n",
            "(2, 1) 7\n",
            "(2, 2) 8\n",
            "(0, 0) 0\n",
            "(0, 1) 1\n",
            "(0, 2) 2\n",
            "(1, 0) 3\n",
            "(1, 1) 4\n",
            "(1, 2) 5\n",
            "(2, 0) 6\n",
            "(2, 1) 7\n",
            "(2, 2) 8\n"
          ]
        }
      ],
      "source": [
        "Z = np.arange(9).reshape(3,3)\n",
        "for index, value in np.ndenumerate(Z):\n",
        "    print(index, value)\n",
        "for index in np.ndindex(Z.shape):\n",
        "    print(index, Z[index])"
      ]
    },
    {
      "cell_type": "markdown",
      "metadata": {
        "id": "kxH1pBb6SZSJ"
      },
      "source": [
        "#### 56. Generate a generic 2D Gaussian-like array (★★☆) \n",
        "(**hint**: np.meshgrid, np.exp)"
      ]
    },
    {
      "cell_type": "code",
      "execution_count": null,
      "metadata": {
        "id": "AZWJgQVBSZSJ",
        "colab": {
          "base_uri": "https://localhost:8080/"
        },
        "outputId": "25b38185-5e54-44e0-f1bf-25f5027d9e19"
      },
      "outputs": [
        {
          "output_type": "stream",
          "name": "stdout",
          "text": [
            "[[0.36787944 0.44822088 0.51979489 0.57375342 0.60279818 0.60279818\n",
            "  0.57375342 0.51979489 0.44822088 0.36787944]\n",
            " [0.44822088 0.54610814 0.63331324 0.69905581 0.73444367 0.73444367\n",
            "  0.69905581 0.63331324 0.54610814 0.44822088]\n",
            " [0.51979489 0.63331324 0.73444367 0.81068432 0.85172308 0.85172308\n",
            "  0.81068432 0.73444367 0.63331324 0.51979489]\n",
            " [0.57375342 0.69905581 0.81068432 0.89483932 0.9401382  0.9401382\n",
            "  0.89483932 0.81068432 0.69905581 0.57375342]\n",
            " [0.60279818 0.73444367 0.85172308 0.9401382  0.98773022 0.98773022\n",
            "  0.9401382  0.85172308 0.73444367 0.60279818]\n",
            " [0.60279818 0.73444367 0.85172308 0.9401382  0.98773022 0.98773022\n",
            "  0.9401382  0.85172308 0.73444367 0.60279818]\n",
            " [0.57375342 0.69905581 0.81068432 0.89483932 0.9401382  0.9401382\n",
            "  0.89483932 0.81068432 0.69905581 0.57375342]\n",
            " [0.51979489 0.63331324 0.73444367 0.81068432 0.85172308 0.85172308\n",
            "  0.81068432 0.73444367 0.63331324 0.51979489]\n",
            " [0.44822088 0.54610814 0.63331324 0.69905581 0.73444367 0.73444367\n",
            "  0.69905581 0.63331324 0.54610814 0.44822088]\n",
            " [0.36787944 0.44822088 0.51979489 0.57375342 0.60279818 0.60279818\n",
            "  0.57375342 0.51979489 0.44822088 0.36787944]]\n"
          ]
        }
      ],
      "source": [
        "X, Y = np.meshgrid(np.linspace(-1,1,10), np.linspace(-1,1,10))\n",
        "D = np.sqrt(X*X+Y*Y)\n",
        "sigma, mu = 1.0, 0.0\n",
        "G = np.exp(-( (D-mu)**2 / ( 2.0 * sigma**2 ) ) )\n",
        "print(G)"
      ]
    },
    {
      "cell_type": "markdown",
      "metadata": {
        "id": "k9DxHynoSZSK"
      },
      "source": [
        "#### 57. How to randomly place p elements in a 2D array? (★★☆) \n",
        "(**hint**: np.put, np.random.choice)"
      ]
    },
    {
      "cell_type": "code",
      "execution_count": null,
      "metadata": {
        "id": "AiT-MpkQSZSK",
        "colab": {
          "base_uri": "https://localhost:8080/"
        },
        "outputId": "7c4cf604-772f-4675-a036-6dd34f0188ac"
      },
      "outputs": [
        {
          "output_type": "stream",
          "name": "stdout",
          "text": [
            "[[0. 0. 0. 0. 0. 0. 0. 0. 0. 0.]\n",
            " [0. 0. 1. 0. 0. 0. 0. 0. 0. 0.]\n",
            " [0. 0. 1. 0. 0. 0. 0. 0. 0. 0.]\n",
            " [0. 0. 0. 0. 0. 0. 0. 0. 0. 0.]\n",
            " [0. 0. 0. 0. 0. 0. 0. 0. 0. 0.]\n",
            " [0. 0. 0. 0. 0. 0. 0. 0. 0. 0.]\n",
            " [0. 0. 0. 0. 0. 0. 0. 0. 0. 0.]\n",
            " [0. 0. 0. 0. 0. 0. 0. 0. 1. 0.]\n",
            " [0. 0. 0. 0. 0. 0. 0. 0. 0. 0.]\n",
            " [0. 0. 0. 0. 0. 0. 0. 0. 0. 0.]]\n"
          ]
        }
      ],
      "source": [
        "n = 10\n",
        "p = 3\n",
        "Z = np.zeros((n,n))\n",
        "np.put(Z, np.random.choice(range(n*n), p, replace=False),1)\n",
        "print(Z)"
      ]
    },
    {
      "cell_type": "markdown",
      "metadata": {
        "id": "k4Bn4ypDSZSK"
      },
      "source": [
        "#### 58. Subtract the mean of each row of a matrix (★★☆) \n",
        "(**hint**: mean(axis=,keepdims=))"
      ]
    },
    {
      "cell_type": "code",
      "execution_count": null,
      "metadata": {
        "id": "b8qKZWFySZSK",
        "colab": {
          "base_uri": "https://localhost:8080/"
        },
        "outputId": "6c349612-c39c-4190-8d7f-841a0698052b"
      },
      "outputs": [
        {
          "output_type": "stream",
          "name": "stdout",
          "text": [
            "[[-0.2041382   0.0508487   0.32489577 -0.44682689  0.23063465 -0.30334252\n",
            "   0.02962421  0.21026008 -0.29399599  0.40204018]\n",
            " [-0.39397103  0.06624879  0.37467152 -0.44612191  0.09055178  0.10006806\n",
            "   0.23216368 -0.06519041  0.09862746 -0.05704792]\n",
            " [ 0.40855007  0.27974844  0.13046169  0.10760098 -0.57466819 -0.00772413\n",
            "   0.3985231  -0.13424563 -0.38052958 -0.22771676]\n",
            " [ 0.23881038 -0.27759036  0.12006611  0.17482904 -0.22638839 -0.22172321\n",
            "   0.29272023 -0.1268049   0.23049828 -0.20441718]\n",
            " [-0.37436958  0.22202928  0.16498327 -0.21991254  0.18013733  0.06681656\n",
            "   0.05097091 -0.43642477 -0.18037478  0.52614431]]\n"
          ]
        }
      ],
      "source": [
        "\n",
        "X = np.random.rand(5, 10)\n",
        "\n",
        "# Recent versions of numpy\n",
        "Y = X - X.mean(axis=1, keepdims=True)\n",
        "\n",
        "# Older versions of numpy\n",
        "Y = X - X.mean(axis=1).reshape(-1, 1)\n",
        "\n",
        "print(Y)"
      ]
    },
    {
      "cell_type": "markdown",
      "metadata": {
        "id": "QrLRc64CSZSK"
      },
      "source": [
        "#### 59. How to sort an array by the nth column? (★★☆) \n",
        "(**hint**: argsort)"
      ]
    },
    {
      "cell_type": "code",
      "execution_count": null,
      "metadata": {
        "id": "Nz5dkW4PSZSL",
        "colab": {
          "base_uri": "https://localhost:8080/"
        },
        "outputId": "7cbef2b7-3455-4f93-ebb4-34476fe9d748"
      },
      "outputs": [
        {
          "output_type": "stream",
          "name": "stdout",
          "text": [
            "[[0 4 0]\n",
            " [7 7 6]\n",
            " [6 3 8]]\n",
            "[[6 3 8]\n",
            " [0 4 0]\n",
            " [7 7 6]]\n"
          ]
        }
      ],
      "source": [
        "Z = np.random.randint(0,10,(3,3))\n",
        "print(Z)\n",
        "print(Z[Z[:,1].argsort()])"
      ]
    },
    {
      "cell_type": "markdown",
      "metadata": {
        "id": "RWO6jP38SZSL"
      },
      "source": [
        "#### 60. How to tell if a given 2D array has null columns? (★★☆) \n",
        "(**hint**: any, ~)"
      ]
    },
    {
      "cell_type": "code",
      "execution_count": null,
      "metadata": {
        "id": "HceKdl9SSZSL",
        "colab": {
          "base_uri": "https://localhost:8080/"
        },
        "outputId": "fe96c687-b478-4f7d-a600-6d0cda67333c"
      },
      "outputs": [
        {
          "output_type": "stream",
          "name": "stdout",
          "text": [
            "False\n"
          ]
        }
      ],
      "source": [
        "\n",
        "Z = np.random.randint(0,3,(3,10))\n",
        "print((~Z.any(axis=0)).any())"
      ]
    },
    {
      "cell_type": "markdown",
      "metadata": {
        "id": "AtrI_v7wSZSL"
      },
      "source": [
        "#### 61. Find the nearest value from a given value in an array (★★☆) \n",
        "(**hint**: np.abs, argmin, flat)"
      ]
    },
    {
      "cell_type": "code",
      "execution_count": null,
      "metadata": {
        "id": "iWFh59cOSZSM",
        "colab": {
          "base_uri": "https://localhost:8080/"
        },
        "outputId": "9d1f34b1-88d4-4e5c-e17b-2f6081117a44"
      },
      "outputs": [
        {
          "output_type": "stream",
          "name": "stdout",
          "text": [
            "0.488425859826062\n"
          ]
        }
      ],
      "source": [
        "Z = np.random.uniform(0,1,10)\n",
        "z = 0.5\n",
        "m = Z.flat[np.abs(Z - z).argmin()]\n",
        "print(m)"
      ]
    },
    {
      "cell_type": "markdown",
      "metadata": {
        "id": "5uJ-6e5rSZSM"
      },
      "source": [
        "#### 62. Considering two arrays with shape (1,3) and (3,1), how to compute their sum using an iterator? (★★☆) \n",
        "(**hint**: np.nditer)"
      ]
    },
    {
      "cell_type": "code",
      "execution_count": null,
      "metadata": {
        "id": "hObR88siSZSM",
        "colab": {
          "base_uri": "https://localhost:8080/"
        },
        "outputId": "a371e3d9-111e-44cc-9852-74ca3f33afd7"
      },
      "outputs": [
        {
          "output_type": "stream",
          "name": "stdout",
          "text": [
            "[[0 1 2]\n",
            " [1 2 3]\n",
            " [2 3 4]]\n"
          ]
        }
      ],
      "source": [
        "A = np.arange(3).reshape(3,1)\n",
        "B = np.arange(3).reshape(1,3)\n",
        "it = np.nditer([A,B,None])\n",
        "for x,y,z in it: z[...] = x + y\n",
        "print(it.operands[2])"
      ]
    },
    {
      "cell_type": "markdown",
      "metadata": {
        "id": "Ic7_jqO8SZSM"
      },
      "source": [
        "#### 63. Create an array class that has a name attribute (★★☆) \n",
        "(**hint**: class method)"
      ]
    },
    {
      "cell_type": "code",
      "execution_count": null,
      "metadata": {
        "id": "k3328MSCSZSM",
        "colab": {
          "base_uri": "https://localhost:8080/"
        },
        "outputId": "b54aa6f4-066f-4212-c35d-6f4a1b12a417"
      },
      "outputs": [
        {
          "output_type": "stream",
          "name": "stdout",
          "text": [
            "range_10\n"
          ]
        }
      ],
      "source": [
        "\n",
        "class NamedArray(np.ndarray):\n",
        "    def __new__(cls, array, name=\"no name\"):\n",
        "        obj = np.asarray(array).view(cls)\n",
        "        obj.name = name\n",
        "        return obj\n",
        "    def __array_finalize__(self, obj):\n",
        "        if obj is None: return\n",
        "        self.info = getattr(obj, 'name', \"no name\")\n",
        "\n",
        "Z = NamedArray(np.arange(10), \"range_10\")\n",
        "print (Z.name)"
      ]
    },
    {
      "cell_type": "markdown",
      "metadata": {
        "id": "YHEDuCKLSZSN"
      },
      "source": [
        "#### 64. Consider a given vector, how to add 1 to each element indexed by a second vector (be careful with repeated indices)? (★★★) \n",
        "(**hint**: np.bincount | np.add.at)"
      ]
    },
    {
      "cell_type": "code",
      "execution_count": null,
      "metadata": {
        "id": "oFRGNVTKSZSN",
        "colab": {
          "base_uri": "https://localhost:8080/"
        },
        "outputId": "319604c3-86c4-4e89-e9ba-93da710a7f5b"
      },
      "outputs": [
        {
          "output_type": "stream",
          "name": "stdout",
          "text": [
            "[3. 1. 4. 1. 4. 3. 4. 2. 6. 2.]\n",
            "[ 5.  1.  7.  1.  7.  5.  7.  3. 11.  3.]\n"
          ]
        }
      ],
      "source": [
        "Z = np.ones(10)\n",
        "I = np.random.randint(0,len(Z),20)\n",
        "Z += np.bincount(I, minlength=len(Z))\n",
        "print(Z)\n",
        "\n",
        "np.add.at(Z, I, 1)\n",
        "print(Z)"
      ]
    },
    {
      "cell_type": "markdown",
      "metadata": {
        "id": "7lqoOHvMSZSN"
      },
      "source": [
        "#### 65. How to accumulate elements of a vector (X) to an array (F) based on an index list (I)? (★★★) \n",
        "(**hint**: np.bincount)"
      ]
    },
    {
      "cell_type": "code",
      "execution_count": null,
      "metadata": {
        "id": "Nyq97--zSZSO",
        "colab": {
          "base_uri": "https://localhost:8080/"
        },
        "outputId": "4c1d332f-8f12-4123-a0b9-4983e706e84e"
      },
      "outputs": [
        {
          "output_type": "stream",
          "name": "stdout",
          "text": [
            "[0. 7. 0. 6. 5. 0. 0. 0. 0. 3.]\n"
          ]
        }
      ],
      "source": [
        "\n",
        "X = [1,2,3,4,5,6]\n",
        "I = [1,3,9,3,4,1]\n",
        "F = np.bincount(I,X)\n",
        "print(F)"
      ]
    },
    {
      "cell_type": "markdown",
      "metadata": {
        "id": "9jV65fAaSZSO"
      },
      "source": [
        "#### 66. Considering a (w,h,3) image of (dtype=ubyte), compute the number of unique colors (★★★) \n",
        "(**hint**: np.unique)"
      ]
    },
    {
      "cell_type": "code",
      "execution_count": null,
      "metadata": {
        "id": "uTv8hdAxSZSO",
        "colab": {
          "base_uri": "https://localhost:8080/"
        },
        "outputId": "bd0e4f5d-edf5-46a9-8c83-8305eeed6548"
      },
      "outputs": [
        {
          "output_type": "stream",
          "name": "stdout",
          "text": [
            "64\n",
            "64\n"
          ]
        }
      ],
      "source": [
        "w, h = 256, 256\n",
        "I = np.random.randint(0, 4, (h, w, 3)).astype(np.ubyte)\n",
        "colors = np.unique(I.reshape(-1, 3), axis=0)\n",
        "n = len(colors)\n",
        "print(n)\n",
        "\n",
        "w, h = 256, 256\n",
        "I = np.random.randint(0,4,(h,w,3), dtype=np.uint8)\n",
        "\n",
        "I24 = np.dot(I.astype(np.uint32),[1,256,65536])\n",
        "\n",
        "n = len(np.unique(I24))\n",
        "print(n)"
      ]
    },
    {
      "cell_type": "markdown",
      "metadata": {
        "id": "DxdRCn-9SZSO"
      },
      "source": [
        "#### 67. Considering a four dimensions array, how to get sum over the last two axis at once? (★★★) \n",
        "(**hint**: sum(axis=(-2,-1)))"
      ]
    },
    {
      "cell_type": "code",
      "execution_count": null,
      "metadata": {
        "id": "cnBPYsbuSZSO",
        "colab": {
          "base_uri": "https://localhost:8080/"
        },
        "outputId": "70bc6f08-efa8-43ae-e74c-e0815003b9cf"
      },
      "outputs": [
        {
          "output_type": "stream",
          "name": "stdout",
          "text": [
            "[[59 59 61 39]\n",
            " [52 30 63 61]\n",
            " [57 52 44 60]]\n",
            "[[59 59 61 39]\n",
            " [52 30 63 61]\n",
            " [57 52 44 60]]\n"
          ]
        }
      ],
      "source": [
        "A = np.random.randint(0,10,(3,4,3,4))\n",
        "#solution by passing a tuple of axes (introduced in numpy 1.7.0)\n",
        "sum = A.sum(axis=(-2,-1))\n",
        "print(sum)\n",
        "\n",
        "sum = A.reshape(A.shape[:-2] + (-1,)).sum(axis=-1)\n",
        "print(sum)"
      ]
    },
    {
      "cell_type": "markdown",
      "metadata": {
        "id": "EvvPRs4wSZSP"
      },
      "source": [
        "#### 68. Considering a one-dimensional vector D, how to compute means of subsets of D using a vector S of same size describing subset  indices? (★★★) \n",
        "(**hint**: np.bincount)"
      ]
    },
    {
      "cell_type": "code",
      "execution_count": null,
      "metadata": {
        "id": "YCjhCLE2SZSP",
        "colab": {
          "base_uri": "https://localhost:8080/"
        },
        "outputId": "bf1d8b3e-6389-4b2e-cb69-4dd70b7cf650"
      },
      "outputs": [
        {
          "output_type": "stream",
          "name": "stdout",
          "text": [
            "[0.58916166 0.38149285 0.75085272 0.48750527 0.55618919 0.48652983\n",
            " 0.49734403 0.55733532 0.49557491 0.46740472]\n",
            "0    0.589162\n",
            "1    0.381493\n",
            "2    0.750853\n",
            "3    0.487505\n",
            "4    0.556189\n",
            "5    0.486530\n",
            "6    0.497344\n",
            "7    0.557335\n",
            "8    0.495575\n",
            "9    0.467405\n",
            "dtype: float64\n"
          ]
        }
      ],
      "source": [
        "D = np.random.uniform(0,1,100)\n",
        "S = np.random.randint(0,10,100)\n",
        "D_sums = np.bincount(S, weights=D)\n",
        "D_counts = np.bincount(S)\n",
        "D_means = D_sums / D_counts\n",
        "print(D_means)\n",
        "\n",
        "#Pandas solution as a reference due to more intuitive code\n",
        "import pandas as pd\n",
        "print(pd.Series(D).groupby(S).mean())"
      ]
    },
    {
      "cell_type": "markdown",
      "metadata": {
        "id": "irIJLsw4SZSP"
      },
      "source": [
        "#### 69. How to get the diagonal of a dot product? (★★★) \n",
        "(**hint**: np.diag)"
      ]
    },
    {
      "cell_type": "code",
      "execution_count": null,
      "metadata": {
        "id": "a5CRATvbSZSQ",
        "colab": {
          "base_uri": "https://localhost:8080/"
        },
        "outputId": "e8698bfa-def8-4f95-db98-c6bbe5414c43"
      },
      "outputs": [
        {
          "output_type": "execute_result",
          "data": {
            "text/plain": [
              "array([0.94593349, 0.17614374, 1.42292924, 1.14189685, 1.35236007])"
            ]
          },
          "metadata": {},
          "execution_count": 36
        }
      ],
      "source": [
        "A = np.random.uniform(0,1,(5,5))\n",
        "B = np.random.uniform(0,1,(5,5))\n",
        "\n",
        "#Slow version\n",
        "np.diag(np.dot(A, B))\n",
        "\n",
        "#Fast version\n",
        "np.sum(A * B.T, axis=1)\n",
        "\n",
        "#Faster version\n",
        "np.einsum(\"ij,ji->i\", A, B)"
      ]
    },
    {
      "cell_type": "markdown",
      "metadata": {
        "id": "oYyYZEdQSZSQ"
      },
      "source": [
        "#### 70. Consider the vector \\[1, 2, 3, 4, 5\\], how to build a new vector with 3 consecutive zeros interleaved between each value? (★★★) \n",
        "(**hint**: array\\[::4\\])"
      ]
    },
    {
      "cell_type": "code",
      "execution_count": null,
      "metadata": {
        "id": "RjGBPqGkSZSR",
        "colab": {
          "base_uri": "https://localhost:8080/"
        },
        "outputId": "e1ae2f19-fa7f-4292-9979-cf8a9646a923"
      },
      "outputs": [
        {
          "output_type": "stream",
          "name": "stdout",
          "text": [
            "[1. 0. 0. 0. 2. 0. 0. 0. 3. 0. 0. 0. 4. 0. 0. 0. 5.]\n"
          ]
        }
      ],
      "source": [
        "Z = np.array([1,2,3,4,5])\n",
        "nz = 3\n",
        "Z0 = np.zeros(len(Z) + (len(Z)-1)*(nz))\n",
        "Z0[::nz+1] = Z\n",
        "print(Z0)"
      ]
    },
    {
      "cell_type": "markdown",
      "metadata": {
        "id": "fLDZ3VWdSZSR"
      },
      "source": [
        "#### 71. Consider an array of dimension (5,5,3), how to mulitply it by an array with dimensions (5,5)? (★★★) \n",
        "(**hint**: array\\[:, :, None\\])"
      ]
    },
    {
      "cell_type": "code",
      "execution_count": null,
      "metadata": {
        "collapsed": true,
        "id": "NA4Hei-5SZSR",
        "colab": {
          "base_uri": "https://localhost:8080/"
        },
        "outputId": "3257ae0e-90ad-44e5-b66d-879eba990c1d"
      },
      "outputs": [
        {
          "output_type": "stream",
          "name": "stdout",
          "text": [
            "[[[2. 2. 2.]\n",
            "  [2. 2. 2.]\n",
            "  [2. 2. 2.]\n",
            "  [2. 2. 2.]\n",
            "  [2. 2. 2.]]\n",
            "\n",
            " [[2. 2. 2.]\n",
            "  [2. 2. 2.]\n",
            "  [2. 2. 2.]\n",
            "  [2. 2. 2.]\n",
            "  [2. 2. 2.]]\n",
            "\n",
            " [[2. 2. 2.]\n",
            "  [2. 2. 2.]\n",
            "  [2. 2. 2.]\n",
            "  [2. 2. 2.]\n",
            "  [2. 2. 2.]]\n",
            "\n",
            " [[2. 2. 2.]\n",
            "  [2. 2. 2.]\n",
            "  [2. 2. 2.]\n",
            "  [2. 2. 2.]\n",
            "  [2. 2. 2.]]\n",
            "\n",
            " [[2. 2. 2.]\n",
            "  [2. 2. 2.]\n",
            "  [2. 2. 2.]\n",
            "  [2. 2. 2.]\n",
            "  [2. 2. 2.]]]\n"
          ]
        }
      ],
      "source": [
        "A = np.ones((5,5,3))\n",
        "B = 2*np.ones((5,5))\n",
        "print(A * B[:,:,None])"
      ]
    },
    {
      "cell_type": "markdown",
      "metadata": {
        "id": "9_EVykJ8SZSR"
      },
      "source": [
        "#### 72. How to swap two rows of an array? (★★★) \n",
        "(**hint**: array\\[\\[\\]\\] = array\\[\\[\\]\\])"
      ]
    },
    {
      "cell_type": "code",
      "execution_count": null,
      "metadata": {
        "id": "b3gucgvESZSS",
        "colab": {
          "base_uri": "https://localhost:8080/"
        },
        "outputId": "c94c08df-1a29-446d-de36-873bec0f9d3c"
      },
      "outputs": [
        {
          "output_type": "stream",
          "name": "stdout",
          "text": [
            "[[ 5  6  7  8  9]\n",
            " [ 0  1  2  3  4]\n",
            " [10 11 12 13 14]\n",
            " [15 16 17 18 19]\n",
            " [20 21 22 23 24]]\n"
          ]
        }
      ],
      "source": [
        "A = np.arange(25).reshape(5,5)\n",
        "A[[0,1]] = A[[1,0]]\n",
        "print(A)"
      ]
    },
    {
      "cell_type": "markdown",
      "metadata": {
        "id": "wFGm6X0rSZSS"
      },
      "source": [
        "#### 73. Consider a set of 10 triplets describing 10 triangles (with shared vertices), find the set of unique line segments composing all the  triangles (★★★) \n",
        "(**hint**: repeat, np.roll, np.sort, view, np.unique)"
      ]
    },
    {
      "cell_type": "code",
      "execution_count": null,
      "metadata": {
        "id": "EzOWndXzSZSS",
        "colab": {
          "base_uri": "https://localhost:8080/"
        },
        "outputId": "f6734652-840c-4429-a41a-a44e6aed3756"
      },
      "outputs": [
        {
          "output_type": "stream",
          "name": "stdout",
          "text": [
            "[( 3, 72) ( 3, 89) ( 6, 11) ( 6, 28) ( 6, 52) ( 6, 92) ( 8, 26) ( 8, 76)\n",
            " (11, 52) (11, 67) (11, 88) (18, 37) (18, 64) (26, 76) (28, 92) (32, 58)\n",
            " (32, 63) (34, 44) (34, 88) (37, 64) (44, 88) (47, 49) (47, 51) (47, 65)\n",
            " (47, 96) (49, 51) (58, 63) (65, 96) (67, 88) (72, 89)]\n"
          ]
        }
      ],
      "source": [
        "faces = np.random.randint(0,100,(10,3))\n",
        "F = np.roll(faces.repeat(2,axis=1),-1,axis=1)\n",
        "F = F.reshape(len(F)*3,2)\n",
        "F = np.sort(F,axis=1)\n",
        "G = F.view( dtype=[('p0',F.dtype),('p1',F.dtype)] )\n",
        "G = np.unique(G)\n",
        "print(G)"
      ]
    },
    {
      "cell_type": "markdown",
      "metadata": {
        "id": "9d2uWT7uSZST"
      },
      "source": [
        "#### 74. Given an array C that is a bincount, how to produce an array A such that np.bincount(A) == C? (★★★) \n",
        "(**hint**: np.repeat)"
      ]
    },
    {
      "cell_type": "code",
      "execution_count": null,
      "metadata": {
        "id": "oijBFG8lSZST",
        "colab": {
          "base_uri": "https://localhost:8080/"
        },
        "outputId": "ae5e215b-a492-4401-ac6d-a0d735ebbbff"
      },
      "outputs": [
        {
          "output_type": "stream",
          "name": "stdout",
          "text": [
            "[1 1 2 3 4 4 6]\n"
          ]
        }
      ],
      "source": [
        "C = np.bincount([1,1,2,3,4,4,6])\n",
        "A = np.repeat(np.arange(len(C)), C)\n",
        "print(A)"
      ]
    },
    {
      "cell_type": "markdown",
      "metadata": {
        "id": "_7V7r8bcSZSU"
      },
      "source": [
        "#### 75. How to compute averages using a sliding window over an array? (★★★) \n",
        "(**hint**: np.cumsum)"
      ]
    },
    {
      "cell_type": "code",
      "execution_count": null,
      "metadata": {
        "id": "EGDOEWbxSZSU",
        "colab": {
          "base_uri": "https://localhost:8080/"
        },
        "outputId": "a2704834-0e00-4639-e8d3-00d8d59f88a8"
      },
      "outputs": [
        {
          "output_type": "stream",
          "name": "stdout",
          "text": [
            "[ 1.  2.  3.  4.  5.  6.  7.  8.  9. 10. 11. 12. 13. 14. 15. 16. 17. 18.]\n",
            "[ 1.  2.  3.  4.  5.  6.  7.  8.  9. 10. 11. 12. 13. 14. 15. 16. 17. 18.]\n"
          ]
        }
      ],
      "source": [
        "from numpy.lib.stride_tricks import sliding_window_view\n",
        "\n",
        "Z = np.arange(20)\n",
        "print(sliding_window_view(Z, window_shape=3).mean(axis=-1))\n",
        "\n",
        "def moving_average(a, n=3) :\n",
        "    ret = np.cumsum(a, dtype=float)\n",
        "    ret[n:] = ret[n:] - ret[:-n]\n",
        "    return ret[n - 1:] / n\n",
        "Z = np.arange(20)\n",
        "print(moving_average(Z, n=3))"
      ]
    },
    {
      "cell_type": "markdown",
      "metadata": {
        "id": "uRj9EqWbSZSV"
      },
      "source": [
        "#### 76. Consider a one-dimensional array Z, build a two-dimensional array whose first row is (Z\\[0\\],Z\\[1\\],Z\\[2\\]) and each subsequent row is  shifted by 1 (last row should be (Z\\[-3\\],Z\\[-2\\],Z\\[-1\\]) (★★★) \n",
        "(**hint**: from numpy.lib import stride_tricks)"
      ]
    },
    {
      "cell_type": "code",
      "execution_count": null,
      "metadata": {
        "id": "qcT222UkSZSV",
        "colab": {
          "base_uri": "https://localhost:8080/"
        },
        "outputId": "ef0ff544-25e1-4255-8946-469d58367ff6"
      },
      "outputs": [
        {
          "output_type": "stream",
          "name": "stdout",
          "text": [
            "[[0 1 2]\n",
            " [1 2 3]\n",
            " [2 3 4]\n",
            " [3 4 5]\n",
            " [4 5 6]\n",
            " [5 6 7]\n",
            " [6 7 8]\n",
            " [7 8 9]]\n",
            "[[0 1 2]\n",
            " [1 2 3]\n",
            " [2 3 4]\n",
            " [3 4 5]\n",
            " [4 5 6]\n",
            " [5 6 7]\n",
            " [6 7 8]\n",
            " [7 8 9]]\n"
          ]
        }
      ],
      "source": [
        "from numpy.lib import stride_tricks\n",
        "\n",
        "def rolling(a, window):\n",
        "    shape = (a.size - window + 1, window)\n",
        "    strides = (a.strides[0], a.strides[0])\n",
        "    return stride_tricks.as_strided(a, shape=shape, strides=strides)\n",
        "Z = rolling(np.arange(10), 3)\n",
        "print(Z)\n",
        "\n",
        "Z = np.arange(10)\n",
        "print(sliding_window_view(Z, window_shape=3))"
      ]
    },
    {
      "cell_type": "markdown",
      "metadata": {
        "id": "QYTZNy6pSZSV"
      },
      "source": [
        "#### 77. How to negate a boolean, or to change the sign of a float inplace? (★★★) \n",
        "(**hint**: np.logical_not, np.negative)"
      ]
    },
    {
      "cell_type": "code",
      "execution_count": null,
      "metadata": {
        "id": "p0vu2S9YSZSW",
        "colab": {
          "base_uri": "https://localhost:8080/"
        },
        "outputId": "aca9e95a-9737-4c3d-c19a-e6b1e088e466"
      },
      "outputs": [
        {
          "output_type": "execute_result",
          "data": {
            "text/plain": [
              "array([-0.45164836,  0.73927658,  0.90589938,  0.03218643,  0.27030512,\n",
              "        0.88604123,  0.29648731, -0.10621264, -0.47598615, -0.44383712,\n",
              "        0.98696016, -0.32376996,  0.4859751 , -0.1583967 ,  0.70050725,\n",
              "        0.21640938, -0.96872323,  0.5697519 , -0.31290097, -0.2380803 ,\n",
              "        0.39981123,  0.04444299,  0.14368889, -0.66876798,  0.21989318,\n",
              "        0.96396867,  0.30692723,  0.03552788, -0.91579982,  0.05845568,\n",
              "        0.86353174,  0.56091556,  0.86026132, -0.98334327, -0.6619166 ,\n",
              "       -0.98664114, -0.92288578,  0.10257828, -0.68629818,  0.14422284,\n",
              "        0.27785556,  0.4524722 , -0.21077311, -0.08149791, -0.92190448,\n",
              "        0.85080024,  0.5857958 , -0.35532297,  0.87935555, -0.83559835,\n",
              "        0.79186719,  0.18296749, -0.28730544, -0.93997573,  0.9701449 ,\n",
              "        0.31663567, -0.20185524,  0.20863636,  0.25644328,  0.56973212,\n",
              "       -0.41198283,  0.71474269,  0.17392698, -0.71930933,  0.45219397,\n",
              "        0.19295456,  0.02116322,  0.59811499, -0.17651462,  0.96562788,\n",
              "        0.77012687,  0.23559727,  0.18058632,  0.31555288, -0.28957265,\n",
              "        0.68497572, -0.08882019, -0.53710866, -0.8823599 ,  0.29388589,\n",
              "        0.3189195 ,  0.39885875,  0.06222491, -0.29845155,  0.91138952,\n",
              "        0.15063387, -0.50916535, -0.27204924, -0.31617354,  0.05436469,\n",
              "        0.66531357,  0.29460096, -0.78201108, -0.54574154,  0.84642758,\n",
              "        0.89401912,  0.79017187, -0.58286585, -0.40888883,  0.68798932])"
            ]
          },
          "metadata": {},
          "execution_count": 46
        }
      ],
      "source": [
        "\n",
        "Z = np.random.randint(0,2,100)\n",
        "np.logical_not(Z, out=Z)\n",
        "\n",
        "Z = np.random.uniform(-1.0,1.0,100)\n",
        "np.negative(Z, out=Z)"
      ]
    },
    {
      "cell_type": "markdown",
      "metadata": {
        "id": "pcU05gu-SZSW"
      },
      "source": [
        "#### 78. Consider 2 sets of points P0,P1 describing lines (2d) and a point p, how to compute distance from p to each line i  (P0\\[i\\],P1\\[i\\])? (★★★)"
      ]
    },
    {
      "cell_type": "code",
      "execution_count": null,
      "metadata": {
        "id": "W9viqg6OSZSX",
        "colab": {
          "base_uri": "https://localhost:8080/"
        },
        "outputId": "428a4759-ef66-4fe3-9413-ac15acfd0bad"
      },
      "outputs": [
        {
          "output_type": "stream",
          "name": "stdout",
          "text": [
            "[ 6.2954052   2.33811412 10.86793909  9.00377898  6.74752278  5.80941067\n",
            "  6.46158917  7.84745754  1.08534222  6.80296536]\n"
          ]
        }
      ],
      "source": [
        "def distance(P0, P1, p):\n",
        "    T = P1 - P0\n",
        "    L = (T**2).sum(axis=1)\n",
        "    U = -((P0[:,0]-p[...,0])*T[:,0] + (P0[:,1]-p[...,1])*T[:,1]) / L\n",
        "    U = U.reshape(len(U),1)\n",
        "    D = P0 + U*T - p\n",
        "    return np.sqrt((D**2).sum(axis=1))\n",
        "\n",
        "P0 = np.random.uniform(-10,10,(10,2))\n",
        "P1 = np.random.uniform(-10,10,(10,2))\n",
        "p  = np.random.uniform(-10,10,( 1,2))\n",
        "print(distance(P0, P1, p))"
      ]
    },
    {
      "cell_type": "markdown",
      "metadata": {
        "id": "_BDpFI8rSZSX"
      },
      "source": [
        "#### 79. Consider 2 sets of points P0,P1 describing lines (2d) and a set of points P, how to compute distance from each point j (P\\[j\\]) to each line i (P0\\[i\\],P1\\[i\\])? (★★★)"
      ]
    },
    {
      "cell_type": "code",
      "execution_count": null,
      "metadata": {
        "id": "NV1OIGIWSZSX",
        "colab": {
          "base_uri": "https://localhost:8080/"
        },
        "outputId": "d2f65b63-59f3-433d-d533-fe5d1f9bb5b3"
      },
      "outputs": [
        {
          "output_type": "stream",
          "name": "stdout",
          "text": [
            "[[ 1.58769592 11.07753088  5.54674545 10.91547626  6.08490786  4.07070775\n",
            "  14.38152229 15.90625728  9.49570563 11.61523828]\n",
            " [13.0906255   5.08212824 10.47125592  3.46052028  6.07120702  0.32264936\n",
            "   4.32855765  0.46467849  5.68752372  4.79267213]\n",
            " [ 1.35959742  2.13519051  1.82591977  0.40169554  4.8069688   8.09203405\n",
            "   3.32496287  4.4694231   6.11268317  2.36159933]\n",
            " [ 0.24163395  7.83578707  4.64230395  6.40618245  1.84568455  5.1038341\n",
            "   9.6966198  11.29455962  7.49567145  8.22359735]\n",
            " [ 4.28309642  6.86903565  1.41114511  7.77108553  2.51885322  8.24177274\n",
            "  12.80889722 13.02223952 12.05442519  7.45900637]\n",
            " [ 5.10627432  6.80945838  6.85901551  2.68829822  1.13395652  3.03909145\n",
            "   4.40196439  7.21181762  2.50520159  6.94115912]\n",
            " [ 4.44087753  8.49646239  7.49707617  4.88177732  0.9626291   2.34150141\n",
            "   6.58510341  9.43635633  3.25463241  8.6922162 ]\n",
            " [ 3.16705412  0.52446367  2.43665572  0.88006876  5.98184055 12.30374656\n",
            "   4.84203732  4.37460475 10.60024727  0.12756763]\n",
            " [ 2.93412159  6.58029966  5.45084279  3.59949049  0.55421933  4.39662739\n",
            "   6.11767215  8.29430248  4.7038385   6.81345863]\n",
            " [ 1.43257015  0.82073593  0.60489741  0.3415104   5.17554247 10.48330882\n",
            "   4.56834312  4.76222213  8.89482968  1.1584252 ]]\n"
          ]
        }
      ],
      "source": [
        "P0 = np.random.uniform(-10, 10, (10,2))\n",
        "P1 = np.random.uniform(-10,10,(10,2))\n",
        "p = np.random.uniform(-10, 10, (10,2))\n",
        "print(np.array([distance(P0,P1,p_i) for p_i in p]))"
      ]
    },
    {
      "cell_type": "markdown",
      "metadata": {
        "id": "OZqLci6mSZSY"
      },
      "source": [
        "#### 80. Consider an arbitrary array, write a function that extract a subpart with a fixed shape and centered on a given element (pad with a `fill` value when necessary) (★★★) \n",
        "(**hint**: minimum, maximum)"
      ]
    },
    {
      "cell_type": "code",
      "execution_count": null,
      "metadata": {
        "id": "WYCsNvjaSZSY",
        "colab": {
          "base_uri": "https://localhost:8080/"
        },
        "outputId": "82ffc154-e7ca-4fee-e724-598715ffa982"
      },
      "outputs": [
        {
          "output_type": "stream",
          "name": "stdout",
          "text": [
            "[[7 7 2 4 8 1 6 7 6 4]\n",
            " [5 4 0 7 4 6 8 4 5 6]\n",
            " [9 8 4 4 4 3 9 1 3 8]\n",
            " [7 4 7 7 1 2 4 5 1 9]\n",
            " [8 1 0 3 2 4 0 6 9 2]\n",
            " [2 5 2 8 5 0 4 4 2 8]\n",
            " [9 2 2 4 3 1 0 4 9 2]\n",
            " [0 9 9 2 2 0 7 1 9 1]\n",
            " [5 7 6 1 2 3 3 9 6 5]\n",
            " [6 5 4 2 9 9 2 8 2 0]]\n",
            "[[0 0 0 0 0]\n",
            " [0 7 7 2 4]\n",
            " [0 5 4 0 7]\n",
            " [0 9 8 4 4]\n",
            " [0 7 4 7 7]]\n"
          ]
        },
        {
          "output_type": "stream",
          "name": "stderr",
          "text": [
            "/usr/local/lib/python3.7/dist-packages/ipykernel_launcher.py:24: FutureWarning: Using a non-tuple sequence for multidimensional indexing is deprecated; use `arr[tuple(seq)]` instead of `arr[seq]`. In the future this will be interpreted as an array index, `arr[np.array(seq)]`, which will result either in an error or a different result.\n"
          ]
        }
      ],
      "source": [
        "\n",
        "Z = np.random.randint(0,10,(10,10))\n",
        "shape = (5,5)\n",
        "fill  = 0\n",
        "position = (1,1)\n",
        "\n",
        "R = np.ones(shape, dtype=Z.dtype)*fill\n",
        "P  = np.array(list(position)).astype(int)\n",
        "Rs = np.array(list(R.shape)).astype(int)\n",
        "Zs = np.array(list(Z.shape)).astype(int)\n",
        "\n",
        "R_start = np.zeros((len(shape),)).astype(int)\n",
        "R_stop  = np.array(list(shape)).astype(int)\n",
        "Z_start = (P-Rs//2)\n",
        "Z_stop  = (P+Rs//2)+Rs%2\n",
        "\n",
        "R_start = (R_start - np.minimum(Z_start,0)).tolist()\n",
        "Z_start = (np.maximum(Z_start,0)).tolist()\n",
        "R_stop = np.maximum(R_start, (R_stop - np.maximum(Z_stop-Zs,0))).tolist()\n",
        "Z_stop = (np.minimum(Z_stop,Zs)).tolist()\n",
        "\n",
        "r = [slice(start,stop) for start,stop in zip(R_start,R_stop)]\n",
        "z = [slice(start,stop) for start,stop in zip(Z_start,Z_stop)]\n",
        "R[r] = Z[z]\n",
        "print(Z)\n",
        "print(R)"
      ]
    },
    {
      "cell_type": "markdown",
      "metadata": {
        "id": "i_uGTPS0SZSY"
      },
      "source": [
        "#### 81. Consider an array Z = \\[1,2,3,4,5,6,7,8,9,10,11,12,13,14\\], how to generate an array R = \\[\\[1,2,3,4\\], \\[2,3,4,5\\], \\[3,4,5,6\\], ..., \\[11,12,13,14\\]\\]? (★★★) \n",
        "(**hint**: stride\\_tricks.as\\_strided)"
      ]
    },
    {
      "cell_type": "code",
      "execution_count": null,
      "metadata": {
        "id": "SSzbErLQSZSZ",
        "colab": {
          "base_uri": "https://localhost:8080/"
        },
        "outputId": "78f99c86-24c7-459a-b7f9-6bfac9cf4eb1"
      },
      "outputs": [
        {
          "output_type": "stream",
          "name": "stdout",
          "text": [
            "[[ 1  2  3  4]\n",
            " [ 2  3  4  5]\n",
            " [ 3  4  5  6]\n",
            " [ 4  5  6  7]\n",
            " [ 5  6  7  8]\n",
            " [ 6  7  8  9]\n",
            " [ 7  8  9 10]\n",
            " [ 8  9 10 11]\n",
            " [ 9 10 11 12]\n",
            " [10 11 12 13]\n",
            " [11 12 13 14]]\n",
            "[[ 1  2  3  4]\n",
            " [ 2  3  4  5]\n",
            " [ 3  4  5  6]\n",
            " [ 4  5  6  7]\n",
            " [ 5  6  7  8]\n",
            " [ 6  7  8  9]\n",
            " [ 7  8  9 10]\n",
            " [ 8  9 10 11]\n",
            " [ 9 10 11 12]\n",
            " [10 11 12 13]\n",
            " [11 12 13 14]]\n"
          ]
        }
      ],
      "source": [
        "Z = np.arange(1, 15, dtype=np.uint32)\n",
        "print(sliding_window_view(Z, window_shape=4))\n",
        "\n",
        "Z = np.arange(1,15,dtype=np.uint32)\n",
        "R = stride_tricks.as_strided(Z,(11,4),(4,4))\n",
        "print(R)"
      ]
    },
    {
      "cell_type": "markdown",
      "metadata": {
        "id": "L8mA5TUESZSZ"
      },
      "source": [
        "#### 82. Compute a matrix rank (★★★) \n",
        "(**hint**: np.linalg.svd) (suggestion: np.linalg.svd)"
      ]
    },
    {
      "cell_type": "code",
      "execution_count": null,
      "metadata": {
        "id": "y71JRaB0SZSa",
        "colab": {
          "base_uri": "https://localhost:8080/"
        },
        "outputId": "a8c00f5f-3e1e-4e92-c865-ab8cbc2a2feb"
      },
      "outputs": [
        {
          "output_type": "stream",
          "name": "stdout",
          "text": [
            "10\n",
            "10\n"
          ]
        }
      ],
      "source": [
        "\n",
        "Z = np.random.uniform(0,1,(10,10))\n",
        "U, S, V = np.linalg.svd(Z) # Singular Value Decomposition\n",
        "rank = np.sum(S > 1e-10)\n",
        "print(rank)\n",
        "\n",
        "rank = np.linalg.matrix_rank(Z)\n",
        "print(rank)"
      ]
    },
    {
      "cell_type": "markdown",
      "metadata": {
        "id": "rjoCgaJSSZSa"
      },
      "source": [
        "#### 83. How to find the most frequent value in an array? \n",
        "(**hint**: np.bincount, argmax)"
      ]
    },
    {
      "cell_type": "code",
      "execution_count": null,
      "metadata": {
        "id": "HzIko4dPSZSa",
        "colab": {
          "base_uri": "https://localhost:8080/"
        },
        "outputId": "aecd9b88-7c6b-4964-cabd-862bf672f1ca"
      },
      "outputs": [
        {
          "output_type": "stream",
          "name": "stdout",
          "text": [
            "8\n"
          ]
        }
      ],
      "source": [
        "Z = np.random.randint(0,10,50)\n",
        "print(np.bincount(Z).argmax())"
      ]
    },
    {
      "cell_type": "markdown",
      "metadata": {
        "id": "xOTpp5rfSZSb"
      },
      "source": [
        "#### 84. Extract all the contiguous 3x3 blocks from a random 10x10 matrix (★★★) \n",
        "(**hint**: stride\\_tricks.as\\_strided)"
      ]
    },
    {
      "cell_type": "code",
      "execution_count": null,
      "metadata": {
        "id": "AWchtflnSZSb",
        "colab": {
          "base_uri": "https://localhost:8080/"
        },
        "outputId": "88eb3b9f-1078-4482-9f21-cf4094b8b0fc"
      },
      "outputs": [
        {
          "output_type": "stream",
          "name": "stdout",
          "text": [
            "[[[[0 1 4]\n",
            "   [3 4 4]\n",
            "   [0 4 0]]\n",
            "\n",
            "  [[1 4 1]\n",
            "   [4 4 2]\n",
            "   [4 0 0]]\n",
            "\n",
            "  [[4 1 0]\n",
            "   [4 2 3]\n",
            "   [0 0 3]]\n",
            "\n",
            "  [[1 0 4]\n",
            "   [2 3 3]\n",
            "   [0 3 2]]\n",
            "\n",
            "  [[0 4 2]\n",
            "   [3 3 2]\n",
            "   [3 2 1]]\n",
            "\n",
            "  [[4 2 3]\n",
            "   [3 2 1]\n",
            "   [2 1 4]]\n",
            "\n",
            "  [[2 3 1]\n",
            "   [2 1 3]\n",
            "   [1 4 0]]\n",
            "\n",
            "  [[3 1 3]\n",
            "   [1 3 3]\n",
            "   [4 0 3]]]\n",
            "\n",
            "\n",
            " [[[3 4 4]\n",
            "   [0 4 0]\n",
            "   [4 0 3]]\n",
            "\n",
            "  [[4 4 2]\n",
            "   [4 0 0]\n",
            "   [0 3 4]]\n",
            "\n",
            "  [[4 2 3]\n",
            "   [0 0 3]\n",
            "   [3 4 0]]\n",
            "\n",
            "  [[2 3 3]\n",
            "   [0 3 2]\n",
            "   [4 0 3]]\n",
            "\n",
            "  [[3 3 2]\n",
            "   [3 2 1]\n",
            "   [0 3 3]]\n",
            "\n",
            "  [[3 2 1]\n",
            "   [2 1 4]\n",
            "   [3 3 0]]\n",
            "\n",
            "  [[2 1 3]\n",
            "   [1 4 0]\n",
            "   [3 0 3]]\n",
            "\n",
            "  [[1 3 3]\n",
            "   [4 0 3]\n",
            "   [0 3 3]]]\n",
            "\n",
            "\n",
            " [[[0 4 0]\n",
            "   [4 0 3]\n",
            "   [2 3 2]]\n",
            "\n",
            "  [[4 0 0]\n",
            "   [0 3 4]\n",
            "   [3 2 1]]\n",
            "\n",
            "  [[0 0 3]\n",
            "   [3 4 0]\n",
            "   [2 1 3]]\n",
            "\n",
            "  [[0 3 2]\n",
            "   [4 0 3]\n",
            "   [1 3 2]]\n",
            "\n",
            "  [[3 2 1]\n",
            "   [0 3 3]\n",
            "   [3 2 0]]\n",
            "\n",
            "  [[2 1 4]\n",
            "   [3 3 0]\n",
            "   [2 0 3]]\n",
            "\n",
            "  [[1 4 0]\n",
            "   [3 0 3]\n",
            "   [0 3 2]]\n",
            "\n",
            "  [[4 0 3]\n",
            "   [0 3 3]\n",
            "   [3 2 3]]]\n",
            "\n",
            "\n",
            " [[[4 0 3]\n",
            "   [2 3 2]\n",
            "   [1 2 3]]\n",
            "\n",
            "  [[0 3 4]\n",
            "   [3 2 1]\n",
            "   [2 3 1]]\n",
            "\n",
            "  [[3 4 0]\n",
            "   [2 1 3]\n",
            "   [3 1 1]]\n",
            "\n",
            "  [[4 0 3]\n",
            "   [1 3 2]\n",
            "   [1 1 4]]\n",
            "\n",
            "  [[0 3 3]\n",
            "   [3 2 0]\n",
            "   [1 4 0]]\n",
            "\n",
            "  [[3 3 0]\n",
            "   [2 0 3]\n",
            "   [4 0 3]]\n",
            "\n",
            "  [[3 0 3]\n",
            "   [0 3 2]\n",
            "   [0 3 1]]\n",
            "\n",
            "  [[0 3 3]\n",
            "   [3 2 3]\n",
            "   [3 1 4]]]\n",
            "\n",
            "\n",
            " [[[2 3 2]\n",
            "   [1 2 3]\n",
            "   [2 1 2]]\n",
            "\n",
            "  [[3 2 1]\n",
            "   [2 3 1]\n",
            "   [1 2 4]]\n",
            "\n",
            "  [[2 1 3]\n",
            "   [3 1 1]\n",
            "   [2 4 4]]\n",
            "\n",
            "  [[1 3 2]\n",
            "   [1 1 4]\n",
            "   [4 4 0]]\n",
            "\n",
            "  [[3 2 0]\n",
            "   [1 4 0]\n",
            "   [4 0 0]]\n",
            "\n",
            "  [[2 0 3]\n",
            "   [4 0 3]\n",
            "   [0 0 1]]\n",
            "\n",
            "  [[0 3 2]\n",
            "   [0 3 1]\n",
            "   [0 1 3]]\n",
            "\n",
            "  [[3 2 3]\n",
            "   [3 1 4]\n",
            "   [1 3 0]]]\n",
            "\n",
            "\n",
            " [[[1 2 3]\n",
            "   [2 1 2]\n",
            "   [3 2 1]]\n",
            "\n",
            "  [[2 3 1]\n",
            "   [1 2 4]\n",
            "   [2 1 4]]\n",
            "\n",
            "  [[3 1 1]\n",
            "   [2 4 4]\n",
            "   [1 4 0]]\n",
            "\n",
            "  [[1 1 4]\n",
            "   [4 4 0]\n",
            "   [4 0 1]]\n",
            "\n",
            "  [[1 4 0]\n",
            "   [4 0 0]\n",
            "   [0 1 1]]\n",
            "\n",
            "  [[4 0 3]\n",
            "   [0 0 1]\n",
            "   [1 1 2]]\n",
            "\n",
            "  [[0 3 1]\n",
            "   [0 1 3]\n",
            "   [1 2 2]]\n",
            "\n",
            "  [[3 1 4]\n",
            "   [1 3 0]\n",
            "   [2 2 0]]]\n",
            "\n",
            "\n",
            " [[[2 1 2]\n",
            "   [3 2 1]\n",
            "   [0 0 1]]\n",
            "\n",
            "  [[1 2 4]\n",
            "   [2 1 4]\n",
            "   [0 1 4]]\n",
            "\n",
            "  [[2 4 4]\n",
            "   [1 4 0]\n",
            "   [1 4 4]]\n",
            "\n",
            "  [[4 4 0]\n",
            "   [4 0 1]\n",
            "   [4 4 3]]\n",
            "\n",
            "  [[4 0 0]\n",
            "   [0 1 1]\n",
            "   [4 3 4]]\n",
            "\n",
            "  [[0 0 1]\n",
            "   [1 1 2]\n",
            "   [3 4 2]]\n",
            "\n",
            "  [[0 1 3]\n",
            "   [1 2 2]\n",
            "   [4 2 1]]\n",
            "\n",
            "  [[1 3 0]\n",
            "   [2 2 0]\n",
            "   [2 1 4]]]\n",
            "\n",
            "\n",
            " [[[3 2 1]\n",
            "   [0 0 1]\n",
            "   [0 2 3]]\n",
            "\n",
            "  [[2 1 4]\n",
            "   [0 1 4]\n",
            "   [2 3 2]]\n",
            "\n",
            "  [[1 4 0]\n",
            "   [1 4 4]\n",
            "   [3 2 4]]\n",
            "\n",
            "  [[4 0 1]\n",
            "   [4 4 3]\n",
            "   [2 4 2]]\n",
            "\n",
            "  [[0 1 1]\n",
            "   [4 3 4]\n",
            "   [4 2 3]]\n",
            "\n",
            "  [[1 1 2]\n",
            "   [3 4 2]\n",
            "   [2 3 0]]\n",
            "\n",
            "  [[1 2 2]\n",
            "   [4 2 1]\n",
            "   [3 0 2]]\n",
            "\n",
            "  [[2 2 0]\n",
            "   [2 1 4]\n",
            "   [0 2 4]]]]\n"
          ]
        }
      ],
      "source": [
        "Z = np.random.randint(0,5,(10,10))\n",
        "n = 3\n",
        "i = 1 + (Z.shape[0]-3)\n",
        "j = 1 + (Z.shape[1]-3)\n",
        "C = stride_tricks.as_strided(Z, shape=(i, j, n, n), strides=Z.strides + Z.strides)\n",
        "print(C)"
      ]
    },
    {
      "cell_type": "markdown",
      "metadata": {
        "id": "f2YZH-JVSZSb"
      },
      "source": [
        "#### 85. Create a 2D array subclass such that Z\\[i,j\\] == Z\\[j,i\\] (★★★) \n",
        "(**hint**: class method)"
      ]
    },
    {
      "cell_type": "code",
      "execution_count": null,
      "metadata": {
        "id": "RSOeNtWNSZSc",
        "colab": {
          "base_uri": "https://localhost:8080/"
        },
        "outputId": "d2115844-ba1f-4bdf-f88d-65f2d9a17082"
      },
      "outputs": [
        {
          "output_type": "stream",
          "name": "stdout",
          "text": [
            "[[ 1 12 12 15  9]\n",
            " [12  9 17  6 10]\n",
            " [12 17  6 42 11]\n",
            " [15  6 42  7 12]\n",
            " [ 9 10 11 12  9]]\n"
          ]
        }
      ],
      "source": [
        "\n",
        "class Symetric(np.ndarray):\n",
        "    def __setitem__(self, index, value):\n",
        "        i,j = index\n",
        "        super(Symetric, self).__setitem__((i,j), value)\n",
        "        super(Symetric, self).__setitem__((j,i), value)\n",
        "\n",
        "def symetric(Z):\n",
        "    return np.asarray(Z + Z.T - np.diag(Z.diagonal())).view(Symetric)\n",
        "\n",
        "S = symetric(np.random.randint(0,10,(5,5)))\n",
        "S[2,3] = 42\n",
        "print(S)"
      ]
    },
    {
      "cell_type": "markdown",
      "metadata": {
        "id": "j3QepzuvSZSd"
      },
      "source": [
        "#### 86. Consider a set of p matrices wich shape (n,n) and a set of p vectors with shape (n,1). How to compute the sum of of the p matrix products at once? (result has shape (n,1)) (★★★) \n",
        "(**hint**: np.tensordot)"
      ]
    },
    {
      "cell_type": "code",
      "execution_count": null,
      "metadata": {
        "id": "limgn60fSZSd",
        "colab": {
          "base_uri": "https://localhost:8080/"
        },
        "outputId": "1839f5f8-b6b4-4cb5-8547-f748a8eca909"
      },
      "outputs": [
        {
          "output_type": "stream",
          "name": "stdout",
          "text": [
            "[[200.]\n",
            " [200.]\n",
            " [200.]\n",
            " [200.]\n",
            " [200.]\n",
            " [200.]\n",
            " [200.]\n",
            " [200.]\n",
            " [200.]\n",
            " [200.]\n",
            " [200.]\n",
            " [200.]\n",
            " [200.]\n",
            " [200.]\n",
            " [200.]\n",
            " [200.]\n",
            " [200.]\n",
            " [200.]\n",
            " [200.]\n",
            " [200.]]\n"
          ]
        }
      ],
      "source": [
        "\n",
        "p, n = 10, 20\n",
        "M = np.ones((p,n,n))\n",
        "V = np.ones((p,n,1))\n",
        "S = np.tensordot(M, V, axes=[[0, 2], [0, 1]])\n",
        "print(S)"
      ]
    },
    {
      "cell_type": "markdown",
      "metadata": {
        "id": "BZ2oA2F2SZSe"
      },
      "source": [
        "#### 87. Consider a 16x16 array, how to get the block-sum (block size is 4x4)? (★★★) \n",
        "(**hint**: np.add.reduceat)"
      ]
    },
    {
      "cell_type": "code",
      "execution_count": null,
      "metadata": {
        "id": "VLMhzCFISZSe",
        "colab": {
          "base_uri": "https://localhost:8080/"
        },
        "outputId": "0b101acd-9147-446a-a22b-5a22f7edc54b"
      },
      "outputs": [
        {
          "output_type": "stream",
          "name": "stdout",
          "text": [
            "[[16. 16. 16. 16.]\n",
            " [16. 16. 16. 16.]\n",
            " [16. 16. 16. 16.]\n",
            " [16. 16. 16. 16.]]\n",
            "[[16. 16. 16. 16.]\n",
            " [16. 16. 16. 16.]\n",
            " [16. 16. 16. 16.]\n",
            " [16. 16. 16. 16.]]\n"
          ]
        }
      ],
      "source": [
        "\n",
        "Z = np.ones((16,16))\n",
        "k = 4\n",
        "S = np.add.reduceat(np.add.reduceat(Z, np.arange(0, Z.shape[0], k), axis=0),\n",
        "                                       np.arange(0, Z.shape[1], k), axis=1)\n",
        "print(S)\n",
        "\n",
        "# alternative solution:\n",
        "# Author: Sebastian Wallkötter (@FirefoxMetzger)\n",
        "\n",
        "Z = np.ones((16,16))\n",
        "k = 4\n",
        "\n",
        "windows = np.lib.stride_tricks.sliding_window_view(Z, (k, k))\n",
        "S = windows[::k, ::k, ...].sum(axis=(-2, -1))\n",
        "\n",
        "# Author: Jeff Luo (@Jeff1999)\n",
        "\n",
        "Z = np.ones((16, 16))\n",
        "k = 4\n",
        "print(sliding_window_view(Z, window_shape=(k, k))[::k, ::k].sum(axis=(-2, -1)))"
      ]
    },
    {
      "cell_type": "markdown",
      "metadata": {
        "id": "OYoe7IMRSZSe"
      },
      "source": [
        "#### 88. How to implement the Game of Life using numpy arrays? (★★★)"
      ]
    },
    {
      "cell_type": "code",
      "execution_count": null,
      "metadata": {
        "id": "eE2fqPzASZSf",
        "colab": {
          "base_uri": "https://localhost:8080/"
        },
        "outputId": "70b3625b-60b5-4e93-9c00-3499948b886a"
      },
      "outputs": [
        {
          "output_type": "stream",
          "name": "stdout",
          "text": [
            "[[0 0 0 ... 0 0 0]\n",
            " [0 0 0 ... 0 0 0]\n",
            " [0 0 0 ... 0 0 0]\n",
            " ...\n",
            " [0 0 0 ... 0 0 0]\n",
            " [0 0 0 ... 0 0 0]\n",
            " [0 0 0 ... 0 0 0]]\n"
          ]
        }
      ],
      "source": [
        "def iterate(Z):\n",
        "    #Count neighbours\n",
        "    N = (Z[0:-2,0:-2] + Z[0:-2,1:-1] + Z[0:-2,2:] +\n",
        "         Z[1:-1,0:-2]                + Z[1:-1,2:] +\n",
        "         Z[2:  ,0:-2] + Z[2:  ,1:-1] + Z[2:  ,2:])\n",
        "\n",
        "    #Apply rules\n",
        "    birth = (N==3) & (Z[1:-1,1:-1]==0)\n",
        "    survive = ((N==2) | (N==3)) & (Z[1:-1,1:-1]==1)\n",
        "    Z[...] = 0\n",
        "    Z[1:-1,1:-1][birth | survive] = 1\n",
        "    return Z\n",
        "\n",
        "Z = np.random.randint(0,2,(50,50))\n",
        "for i in range(100): Z = iterate(Z)\n",
        "print(Z)"
      ]
    },
    {
      "cell_type": "markdown",
      "metadata": {
        "id": "ts4TYrW_SZSf"
      },
      "source": [
        "#### 89. How to get the n largest values of an array (★★★) \n",
        "(**hint**: np.argsort | np.argpartition)"
      ]
    },
    {
      "cell_type": "code",
      "execution_count": null,
      "metadata": {
        "id": "jLQmrbFVSZSf",
        "colab": {
          "base_uri": "https://localhost:8080/"
        },
        "outputId": "ea513780-65e0-4b42-9f19-c8ca754b951e"
      },
      "outputs": [
        {
          "output_type": "stream",
          "name": "stdout",
          "text": [
            "[9995 9996 9997 9998 9999]\n",
            "[9999 9998 9996 9997 9995]\n"
          ]
        }
      ],
      "source": [
        "Z = np.arange(10000)\n",
        "np.random.shuffle(Z)\n",
        "n = 5\n",
        "\n",
        "#Slow\n",
        "print (Z[np.argsort(Z)[-n:]])\n",
        "\n",
        "#Fast\n",
        "print (Z[np.argpartition(-Z,n)[:n]])"
      ]
    },
    {
      "cell_type": "markdown",
      "metadata": {
        "id": "05PlFBUTSZSg"
      },
      "source": [
        "#### 90. Given an arbitrary number of vectors, build the cartesian product (every combinations of every item) (★★★) \n",
        "(**hint**: np.indices)"
      ]
    },
    {
      "cell_type": "code",
      "execution_count": null,
      "metadata": {
        "scrolled": true,
        "id": "wvSeQvKkSZSg",
        "colab": {
          "base_uri": "https://localhost:8080/"
        },
        "outputId": "4fe31041-a375-4353-b42e-a5e901609dd9"
      },
      "outputs": [
        {
          "output_type": "stream",
          "name": "stdout",
          "text": [
            "[[1 4 6]\n",
            " [1 4 7]\n",
            " [1 5 6]\n",
            " [1 5 7]\n",
            " [2 4 6]\n",
            " [2 4 7]\n",
            " [2 5 6]\n",
            " [2 5 7]\n",
            " [3 4 6]\n",
            " [3 4 7]\n",
            " [3 5 6]\n",
            " [3 5 7]]\n"
          ]
        }
      ],
      "source": [
        "def cartesian(arrays):\n",
        "    arrays = [np.asarray(a) for a in arrays]\n",
        "    shape = (len(x) for x in arrays)\n",
        "\n",
        "    ix = np.indices(shape, dtype=int)\n",
        "    ix = ix.reshape(len(arrays), -1).T\n",
        "\n",
        "    for n, arr in enumerate(arrays):\n",
        "        ix[:, n] = arrays[n][ix[:, n]]\n",
        "\n",
        "    return ix\n",
        "\n",
        "print (cartesian(([1, 2, 3], [4, 5], [6, 7])))"
      ]
    },
    {
      "cell_type": "markdown",
      "metadata": {
        "id": "WrzyOiaNSZSg"
      },
      "source": [
        "#### 91. How to create a record array from a regular array? (★★★) \n",
        "(**hint**: np.core.records.fromarrays)"
      ]
    },
    {
      "cell_type": "code",
      "execution_count": null,
      "metadata": {
        "id": "5XQ8GZshSZSh",
        "colab": {
          "base_uri": "https://localhost:8080/"
        },
        "outputId": "aee3d693-6c4d-4b26-ac47-dde54d9202ea"
      },
      "outputs": [
        {
          "output_type": "stream",
          "name": "stdout",
          "text": [
            "[(b'Hello', 2.5, 3) (b'World', 3.6, 2)]\n"
          ]
        }
      ],
      "source": [
        "Z = np.array([(\"Hello\", 2.5, 3),\n",
        "              (\"World\", 3.6, 2)])\n",
        "R = np.core.records.fromarrays(Z.T,\n",
        "                               names='col1, col2, col3',\n",
        "                               formats = 'S8, f8, i8')\n",
        "print(R)"
      ]
    },
    {
      "cell_type": "markdown",
      "metadata": {
        "id": "m_7QJqOWSZSh"
      },
      "source": [
        "#### 92. Consider a large vector Z, compute Z to the power of 3 using 3 different methods (★★★) \n",
        "(**hint**: np.power, \\*, np.einsum)"
      ]
    },
    {
      "cell_type": "code",
      "execution_count": null,
      "metadata": {
        "id": "J7AiPPRtSZSh",
        "colab": {
          "base_uri": "https://localhost:8080/"
        },
        "outputId": "ef78fc5e-5081-409f-c26e-02d76c501edf"
      },
      "outputs": [
        {
          "output_type": "stream",
          "name": "stdout",
          "text": [
            "1 loop, best of 5: 3.69 s per loop\n",
            "10 loops, best of 5: 129 ms per loop\n",
            "10 loops, best of 5: 115 ms per loop\n"
          ]
        }
      ],
      "source": [
        "x = np.random.rand(int(5e7))\n",
        "\n",
        "%timeit np.power(x,3)\n",
        "%timeit x*x*x\n",
        "%timeit np.einsum('i,i,i->i',x,x,x)"
      ]
    },
    {
      "cell_type": "markdown",
      "metadata": {
        "id": "ogNm0vsRSZSh"
      },
      "source": [
        "#### 93. Consider two arrays A and B of shape (8,3) and (2,2). How to find rows of A that contain elements of each row of B regardless of the order of the elements in B? (★★★) \n",
        "(**hint**: np.where)"
      ]
    },
    {
      "cell_type": "code",
      "execution_count": null,
      "metadata": {
        "id": "RPs677wlSZSi",
        "colab": {
          "base_uri": "https://localhost:8080/"
        },
        "outputId": "295b9295-08e4-46a4-fd04-7c9af8b75621"
      },
      "outputs": [
        {
          "output_type": "stream",
          "name": "stdout",
          "text": [
            "[0 2 4 5 6 7]\n"
          ]
        }
      ],
      "source": [
        "\n",
        "A = np.random.randint(0,5,(8,3))\n",
        "B = np.random.randint(0,5,(2,2))\n",
        "\n",
        "C = (A[..., np.newaxis, np.newaxis] == B)\n",
        "rows = np.where(C.any((3,1)).all(1))[0]\n",
        "print(rows)"
      ]
    },
    {
      "cell_type": "markdown",
      "metadata": {
        "id": "PKtRueC4SZSi"
      },
      "source": [
        "#### 94. Considering a 10x3 matrix, extract rows with unequal values (e.g. \\[2,2,3\\]) (★★★)"
      ]
    },
    {
      "cell_type": "code",
      "execution_count": null,
      "metadata": {
        "id": "CXIJbFMISZSi",
        "colab": {
          "base_uri": "https://localhost:8080/"
        },
        "outputId": "40d74990-01d5-4dd2-f053-fe4fa79e1c92"
      },
      "outputs": [
        {
          "output_type": "stream",
          "name": "stdout",
          "text": [
            "[[3 1 4]\n",
            " [0 1 2]\n",
            " [2 2 4]\n",
            " [3 0 2]\n",
            " [3 4 2]\n",
            " [3 2 0]\n",
            " [0 2 1]\n",
            " [0 3 3]\n",
            " [3 1 2]\n",
            " [1 1 3]]\n",
            "[[3 1 4]\n",
            " [0 1 2]\n",
            " [2 2 4]\n",
            " [3 0 2]\n",
            " [3 4 2]\n",
            " [3 2 0]\n",
            " [0 2 1]\n",
            " [0 3 3]\n",
            " [3 1 2]\n",
            " [1 1 3]]\n",
            "[[3 1 4]\n",
            " [0 1 2]\n",
            " [2 2 4]\n",
            " [3 0 2]\n",
            " [3 4 2]\n",
            " [3 2 0]\n",
            " [0 2 1]\n",
            " [0 3 3]\n",
            " [3 1 2]\n",
            " [1 1 3]]\n"
          ]
        }
      ],
      "source": [
        "Z = np.random.randint(0,5,(10,3))\n",
        "print(Z)\n",
        "E = np.all(Z[:,1:] == Z[:,:-1], axis=1)\n",
        "U = Z[~E]\n",
        "print(U)\n",
        "U = Z[Z.max(axis=1) != Z.min(axis=1),:]\n",
        "print(U)"
      ]
    },
    {
      "cell_type": "markdown",
      "metadata": {
        "id": "XGDGzr3rSZSi"
      },
      "source": [
        "#### 95. Convert a vector of ints into a matrix binary representation (★★★) \n",
        "(**hint**: np.unpackbits)"
      ]
    },
    {
      "cell_type": "code",
      "execution_count": null,
      "metadata": {
        "id": "S-GHySyTSZSi",
        "colab": {
          "base_uri": "https://localhost:8080/"
        },
        "outputId": "30e59506-8069-499a-c1c5-68be2dd9a989"
      },
      "outputs": [
        {
          "output_type": "stream",
          "name": "stdout",
          "text": [
            "[[0 0 0 0 0 0 0 0]\n",
            " [0 0 0 0 0 0 0 1]\n",
            " [0 0 0 0 0 0 1 0]\n",
            " [0 0 0 0 0 0 1 1]\n",
            " [0 0 0 0 1 1 1 1]\n",
            " [0 0 0 1 0 0 0 0]\n",
            " [0 0 1 0 0 0 0 0]\n",
            " [0 1 0 0 0 0 0 0]\n",
            " [1 0 0 0 0 0 0 0]]\n"
          ]
        }
      ],
      "source": [
        "I = np.array([0, 1, 2, 3, 15, 16, 32, 64, 128], dtype=np.uint8)\n",
        "print(np.unpackbits(I[:, np.newaxis], axis=1))"
      ]
    },
    {
      "cell_type": "markdown",
      "metadata": {
        "id": "R8iaU78DSZSj"
      },
      "source": [
        "#### 96. Given a two dimensional array, how to extract unique rows? (★★★) \n",
        "(**hint**: np.ascontiguousarray)"
      ]
    },
    {
      "cell_type": "code",
      "execution_count": null,
      "metadata": {
        "id": "rQvCA5ZwSZSj",
        "colab": {
          "base_uri": "https://localhost:8080/"
        },
        "outputId": "73b9ca70-e1b5-4026-92f0-ec11e258c425"
      },
      "outputs": [
        {
          "output_type": "stream",
          "name": "stdout",
          "text": [
            "[[0 0 1]\n",
            " [0 1 0]\n",
            " [1 0 0]\n",
            " [1 1 0]]\n"
          ]
        }
      ],
      "source": [
        "\n",
        "Z = np.random.randint(0,2,(6,3))\n",
        "T = np.ascontiguousarray(Z).view(np.dtype((np.void, Z.dtype.itemsize * Z.shape[1])))\n",
        "_, idx = np.unique(T, return_index=True)\n",
        "uZ = Z[idx]\n",
        "print(uZ)"
      ]
    },
    {
      "cell_type": "markdown",
      "metadata": {
        "id": "DE3OONQDSZSj"
      },
      "source": [
        "#### 97. Considering 2 vectors A & B, write the einsum equivalent of inner, outer, sum, and mul function (★★★) \n",
        "(**hint**: np.einsum)"
      ]
    },
    {
      "cell_type": "code",
      "execution_count": null,
      "metadata": {
        "id": "Ehhe-qG-SZSj",
        "colab": {
          "base_uri": "https://localhost:8080/"
        },
        "outputId": "d262f283-01ee-417c-86a1-fae7ca687740"
      },
      "outputs": [
        {
          "output_type": "execute_result",
          "data": {
            "text/plain": [
              "array([[0.66474948, 0.20332052, 0.51483887, 0.31446645, 0.0802486 ,\n",
              "        0.08686688, 0.47007983, 0.58245035, 0.01095454, 0.50442001],\n",
              "       [0.69636471, 0.21299036, 0.53932441, 0.32942235, 0.08406519,\n",
              "        0.09099824, 0.49243665, 0.61015147, 0.01147553, 0.52841003],\n",
              "       [0.61039569, 0.18669585, 0.47274265, 0.28875384, 0.07368701,\n",
              "        0.07976414, 0.43164337, 0.53482582, 0.01005883, 0.46317569],\n",
              "       [0.86018855, 0.26309758, 0.66620361, 0.40692087, 0.10384202,\n",
              "        0.1124061 , 0.60828523, 0.75369314, 0.01417521, 0.65272156],\n",
              "       [0.57256114, 0.17512376, 0.44344034, 0.27085583, 0.06911962,\n",
              "        0.07482007, 0.40488854, 0.50167537, 0.00943535, 0.43446638],\n",
              "       [0.07448312, 0.02278144, 0.0576861 , 0.03523499, 0.00899161,\n",
              "        0.00973317, 0.05267099, 0.06526176, 0.00122742, 0.0565187 ],\n",
              "       [0.12860316, 0.03933461, 0.09960129, 0.06083702, 0.01552498,\n",
              "        0.01680536, 0.09094216, 0.11268148, 0.00211928, 0.09758565],\n",
              "       [0.51420982, 0.1572764 , 0.39824808, 0.24325214, 0.06207544,\n",
              "        0.06719494, 0.3636252 , 0.45054821, 0.00847376, 0.39018868],\n",
              "       [0.74996123, 0.22938341, 0.58083414, 0.35477672, 0.09053537,\n",
              "        0.09800202, 0.53033761, 0.65711248, 0.01235876, 0.56907972],\n",
              "       [0.58920881, 0.18021562, 0.45633372, 0.27873117, 0.07112933,\n",
              "        0.07699552, 0.416661  , 0.51626198, 0.00970969, 0.44709883]])"
            ]
          },
          "metadata": {},
          "execution_count": 5
        }
      ],
      "source": [
        "A = np.random.uniform(0,1,10)\n",
        "B = np.random.uniform(0,1,10)\n",
        "\n",
        "np.einsum('i->', A)       # np.sum(A)\n",
        "np.einsum('i,i->i', A, B) # A * B\n",
        "np.einsum('i,i', A, B)    # np.inner(A, B)\n",
        "np.einsum('i,j->ij', A, B)    # np.outer(A, B)"
      ]
    },
    {
      "cell_type": "markdown",
      "metadata": {
        "id": "sK-UvegASZSj"
      },
      "source": [
        "#### 98. Considering a path described by two vectors (X,Y), how to sample it using equidistant samples (★★★)? \n",
        "(**hint**: np.cumsum, np.interp)"
      ]
    },
    {
      "cell_type": "code",
      "execution_count": null,
      "metadata": {
        "collapsed": true,
        "id": "DftvpJ-QSZSk"
      },
      "outputs": [],
      "source": [
        "\n",
        "phi = np.arange(0, 10*np.pi, 0.1)\n",
        "a = 1\n",
        "x = a*phi*np.cos(phi)\n",
        "y = a*phi*np.sin(phi)\n",
        "\n",
        "dr = (np.diff(x)**2 + np.diff(y)**2)**.5 # segment lengths\n",
        "r = np.zeros_like(x)\n",
        "r[1:] = np.cumsum(dr)                # integrate path\n",
        "r_int = np.linspace(0, r.max(), 200) # regular spaced path\n",
        "x_int = np.interp(r_int, r, x)       # integrate path\n",
        "y_int = np.interp(r_int, r, y)"
      ]
    },
    {
      "cell_type": "markdown",
      "metadata": {
        "id": "Xdi9NARASZSk"
      },
      "source": [
        "#### 99. Given an integer n and a 2D array X, select from X the rows which can be interpreted as draws from a multinomial distribution with n degrees, i.e., the rows which only contain integers and which sum to n. (★★★) \n",
        "(**hint**: np.logical\\_and.reduce, np.mod)"
      ]
    },
    {
      "cell_type": "code",
      "execution_count": null,
      "metadata": {
        "id": "wEmN5T_0SZSk",
        "colab": {
          "base_uri": "https://localhost:8080/"
        },
        "outputId": "d7e68ee5-d5f7-4e64-a66c-83a2d3f84396"
      },
      "outputs": [
        {
          "output_type": "stream",
          "name": "stdout",
          "text": [
            "[[2. 0. 1. 1.]]\n"
          ]
        }
      ],
      "source": [
        "X = np.asarray([[1.0, 0.0, 3.0, 8.0],\n",
        "                [2.0, 0.0, 1.0, 1.0],\n",
        "                [1.5, 2.5, 1.0, 0.0]])\n",
        "n = 4\n",
        "M = np.logical_and.reduce(np.mod(X, 1) == 0, axis=-1)\n",
        "M &= (X.sum(axis=-1) == n)\n",
        "print(X[M])"
      ]
    },
    {
      "cell_type": "markdown",
      "metadata": {
        "id": "ovIZLMNBSZSk"
      },
      "source": [
        "#### 100. Compute bootstrapped 95% confidence intervals for the mean of a 1D array X (i.e., resample the elements of an array with replacement N times, compute the mean of each sample, and then compute percentiles over the means). (★★★) \n",
        "(**hint**: np.percentile)"
      ]
    },
    {
      "cell_type": "code",
      "execution_count": null,
      "metadata": {
        "id": "Y0MWha_KSZSk",
        "colab": {
          "base_uri": "https://localhost:8080/"
        },
        "outputId": "ea6c3605-9b8f-4bb3-ff35-e3de94477318"
      },
      "outputs": [
        {
          "output_type": "stream",
          "name": "stdout",
          "text": [
            "[-0.23702991  0.11189013]\n"
          ]
        }
      ],
      "source": [
        "X = np.random.randn(100) # random 1D array\n",
        "N = 1000 # number of bootstrap samples\n",
        "idx = np.random.randint(0, X.size, (N, X.size))\n",
        "means = X[idx].mean(axis=1)\n",
        "confint = np.percentile(means, [2.5, 97.5])\n",
        "print(confint)"
      ]
    }
  ],
  "metadata": {
    "kernelspec": {
      "display_name": "Python 3",
      "language": "python",
      "name": "python3"
    },
    "language_info": {
      "codemirror_mode": {
        "name": "ipython",
        "version": 3
      },
      "file_extension": ".py",
      "mimetype": "text/x-python",
      "name": "python",
      "nbconvert_exporter": "python",
      "pygments_lexer": "ipython3",
      "version": "3.8.3"
    },
    "colab": {
      "name": "Copy of Guvi Assignment numpy 100",
      "provenance": [],
      "include_colab_link": true
    }
  },
  "nbformat": 4,
  "nbformat_minor": 0
}