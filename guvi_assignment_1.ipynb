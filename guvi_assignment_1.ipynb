{
  "nbformat": 4,
  "nbformat_minor": 0,
  "metadata": {
    "colab": {
      "name": "guvi assignment 1",
      "provenance": [],
      "collapsed_sections": [],
      "include_colab_link": true
    },
    "kernelspec": {
      "name": "python3",
      "display_name": "Python 3"
    },
    "language_info": {
      "name": "python"
    }
  },
  "cells": [
    {
      "cell_type": "markdown",
      "metadata": {
        "id": "view-in-github",
        "colab_type": "text"
      },
      "source": [
        "<a href=\"https://colab.research.google.com/github/iamismail471/guvi-assignments/blob/master/guvi_assignment_1.ipynb\" target=\"_parent\"><img src=\"https://colab.research.google.com/assets/colab-badge.svg\" alt=\"Open In Colab\"/></a>"
      ]
    },
    {
      "cell_type": "code",
      "execution_count": 1,
      "metadata": {
        "id": "lPV0wM0mxD_S",
        "outputId": "d82ae552-cbf4-488c-ba74-c08d72717acc",
        "colab": {
          "base_uri": "https://localhost:8080/"
        }
      },
      "outputs": [
        {
          "output_type": "stream",
          "name": "stdout",
          "text": [
            "ismail\n",
            "basha\n",
            "9994629967\n",
            "ismail\n",
            "Please enter the inputs again.\n",
            "Make sure that:\n",
            "    1. You don't have any constrains to input name.\n",
            "    2. Your mobile number must consists of numbers only and the length must be exactly 10.\n",
            "    3. Your gmail must be made out of a combination of alphabets and numbers,as well as must end with '@gmail.com'\n"
          ]
        }
      ],
      "source": [
        "#task 1\n",
        "#Ismail Basha\n",
        "\n",
        "fname=input()                                                                   #first name as input\n",
        "lname=input()                                                                   #last name as input\n",
        "mob=input()                                                                     #mail id as input\n",
        "gmail=input()                                                                   #gmail as input\n",
        "fname=fname.capitalize()                                                        #capitalize first name\n",
        "lname=lname.capitalize()                                                        #capitalize last name\n",
        "gmail=gmail.lower()                                                             #gmail to lower case\n",
        "if mob.isdigit()==True and len(mob)==10 and gmail.endswith(\"@gmail.com\") and gmail[:-10].isalnum()==True:            #check the conditions for mobile number and mail\n",
        "        print(fname)\n",
        "        print(lname)\n",
        "        print(mob)\n",
        "        print(gmail)                                                            #print if all conditions satisfied\n",
        "else:                                                                           #what if all conditions are not satisfied?\n",
        "    print(\"Please enter the inputs again.\")\n",
        "    print(\"\"\"Make sure that:\n",
        "    1. You don't have any constrains to input name.\n",
        "    2. Your mobile number must consists of numbers only and the length must be exactly 10.\n",
        "    3. Your gmail must be made out of a combination of alphabets and numbers,as well as must end with \\'@gmail.com\\'\"\"\")\n"
      ]
    }
  ]
}